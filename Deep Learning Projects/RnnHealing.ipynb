{
  "nbformat": 4,
  "nbformat_minor": 0,
  "metadata": {
    "colab": {
      "provenance": []
    },
    "kernelspec": {
      "name": "python3",
      "display_name": "Python 3"
    },
    "language_info": {
      "name": "python"
    }
  },
  "cells": [
    {
      "cell_type": "markdown",
      "source": [
        "Here we use Rnn Model to Find the Accurate Element and Perform Self Healing."
      ],
      "metadata": {
        "id": "hRRsKB4pUOM4"
      }
    },
    {
      "cell_type": "code",
      "source": [
        "!pip install lxml Beautifulsoup4"
      ],
      "metadata": {
        "colab": {
          "base_uri": "https://localhost:8080/"
        },
        "id": "qXIYUdutRn1k",
        "outputId": "0a84d8d0-e795-44cc-9d86-aeec2ae72b65"
      },
      "execution_count": null,
      "outputs": [
        {
          "output_type": "stream",
          "name": "stdout",
          "text": [
            "Requirement already satisfied: lxml in /usr/local/lib/python3.10/dist-packages (4.9.4)\n",
            "Requirement already satisfied: Beautifulsoup4 in /usr/local/lib/python3.10/dist-packages (4.12.3)\n",
            "Requirement already satisfied: soupsieve>1.2 in /usr/local/lib/python3.10/dist-packages (from Beautifulsoup4) (2.5)\n"
          ]
        }
      ]
    },
    {
      "cell_type": "code",
      "execution_count": null,
      "metadata": {
        "id": "GdYzTlALhava"
      },
      "outputs": [],
      "source": [
        "import pandas as pd\n",
        "import numpy as np\n",
        "import tensorflow as tf\n",
        "from tensorflow.keras.preprocessing.text import Tokenizer\n",
        "from tensorflow.keras.preprocessing.sequence import pad_sequences\n",
        "from tensorflow.keras.models import Sequential\n",
        "from tensorflow.keras.models import Model\n",
        "from tensorflow.keras.layers import Embedding, LSTM, Dense, Attention, TimeDistributed,Input"
      ]
    },
    {
      "cell_type": "code",
      "source": [
        "df = pd.read_csv('html_examples_500.csv')\n",
        "df.head()"
      ],
      "metadata": {
        "colab": {
          "base_uri": "https://localhost:8080/",
          "height": 206
        },
        "id": "9zNkBXUJQ_6L",
        "outputId": "2f921b40-0429-477c-bacb-ec14f76daae8"
      },
      "execution_count": null,
      "outputs": [
        {
          "output_type": "execute_result",
          "data": {
            "text/plain": [
              "                                               input  \\\n",
              "0  <main>\\n    <p class=\"introf-414\">This is intr...   \n",
              "1  <main>\\n    <p class=\"introf-153\">This is intr...   \n",
              "2  <main>\\n    <p class=\"introf-453\">This is intr...   \n",
              "3  <main>\\n    <p class=\"introf-398\">This is intr...   \n",
              "4  <main>\\n    <p class=\"introf-50\">This is intro...   \n",
              "\n",
              "                                              output  \n",
              "0  <p class=\"Artile-informations\" name=\"article-n...  \n",
              "1  <p class=\"Artile-informations\" name=\"article-n...  \n",
              "2  <p class=\"Artile-informations\" name=\"article-n...  \n",
              "3  <p class=\"Artile-informations\" name=\"article-n...  \n",
              "4  <p class=\"Artile-informations\" name=\"article-n...  "
            ],
            "text/html": [
              "\n",
              "  <div id=\"df-ee34f139-f716-4064-9b5f-fb8570e9ef30\" class=\"colab-df-container\">\n",
              "    <div>\n",
              "<style scoped>\n",
              "    .dataframe tbody tr th:only-of-type {\n",
              "        vertical-align: middle;\n",
              "    }\n",
              "\n",
              "    .dataframe tbody tr th {\n",
              "        vertical-align: top;\n",
              "    }\n",
              "\n",
              "    .dataframe thead th {\n",
              "        text-align: right;\n",
              "    }\n",
              "</style>\n",
              "<table border=\"1\" class=\"dataframe\">\n",
              "  <thead>\n",
              "    <tr style=\"text-align: right;\">\n",
              "      <th></th>\n",
              "      <th>input</th>\n",
              "      <th>output</th>\n",
              "    </tr>\n",
              "  </thead>\n",
              "  <tbody>\n",
              "    <tr>\n",
              "      <th>0</th>\n",
              "      <td>&lt;main&gt;\\n    &lt;p class=\"introf-414\"&gt;This is intr...</td>\n",
              "      <td>&lt;p class=\"Artile-informations\" name=\"article-n...</td>\n",
              "    </tr>\n",
              "    <tr>\n",
              "      <th>1</th>\n",
              "      <td>&lt;main&gt;\\n    &lt;p class=\"introf-153\"&gt;This is intr...</td>\n",
              "      <td>&lt;p class=\"Artile-informations\" name=\"article-n...</td>\n",
              "    </tr>\n",
              "    <tr>\n",
              "      <th>2</th>\n",
              "      <td>&lt;main&gt;\\n    &lt;p class=\"introf-453\"&gt;This is intr...</td>\n",
              "      <td>&lt;p class=\"Artile-informations\" name=\"article-n...</td>\n",
              "    </tr>\n",
              "    <tr>\n",
              "      <th>3</th>\n",
              "      <td>&lt;main&gt;\\n    &lt;p class=\"introf-398\"&gt;This is intr...</td>\n",
              "      <td>&lt;p class=\"Artile-informations\" name=\"article-n...</td>\n",
              "    </tr>\n",
              "    <tr>\n",
              "      <th>4</th>\n",
              "      <td>&lt;main&gt;\\n    &lt;p class=\"introf-50\"&gt;This is intro...</td>\n",
              "      <td>&lt;p class=\"Artile-informations\" name=\"article-n...</td>\n",
              "    </tr>\n",
              "  </tbody>\n",
              "</table>\n",
              "</div>\n",
              "    <div class=\"colab-df-buttons\">\n",
              "\n",
              "  <div class=\"colab-df-container\">\n",
              "    <button class=\"colab-df-convert\" onclick=\"convertToInteractive('df-ee34f139-f716-4064-9b5f-fb8570e9ef30')\"\n",
              "            title=\"Convert this dataframe to an interactive table.\"\n",
              "            style=\"display:none;\">\n",
              "\n",
              "  <svg xmlns=\"http://www.w3.org/2000/svg\" height=\"24px\" viewBox=\"0 -960 960 960\">\n",
              "    <path d=\"M120-120v-720h720v720H120Zm60-500h600v-160H180v160Zm220 220h160v-160H400v160Zm0 220h160v-160H400v160ZM180-400h160v-160H180v160Zm440 0h160v-160H620v160ZM180-180h160v-160H180v160Zm440 0h160v-160H620v160Z\"/>\n",
              "  </svg>\n",
              "    </button>\n",
              "\n",
              "  <style>\n",
              "    .colab-df-container {\n",
              "      display:flex;\n",
              "      gap: 12px;\n",
              "    }\n",
              "\n",
              "    .colab-df-convert {\n",
              "      background-color: #E8F0FE;\n",
              "      border: none;\n",
              "      border-radius: 50%;\n",
              "      cursor: pointer;\n",
              "      display: none;\n",
              "      fill: #1967D2;\n",
              "      height: 32px;\n",
              "      padding: 0 0 0 0;\n",
              "      width: 32px;\n",
              "    }\n",
              "\n",
              "    .colab-df-convert:hover {\n",
              "      background-color: #E2EBFA;\n",
              "      box-shadow: 0px 1px 2px rgba(60, 64, 67, 0.3), 0px 1px 3px 1px rgba(60, 64, 67, 0.15);\n",
              "      fill: #174EA6;\n",
              "    }\n",
              "\n",
              "    .colab-df-buttons div {\n",
              "      margin-bottom: 4px;\n",
              "    }\n",
              "\n",
              "    [theme=dark] .colab-df-convert {\n",
              "      background-color: #3B4455;\n",
              "      fill: #D2E3FC;\n",
              "    }\n",
              "\n",
              "    [theme=dark] .colab-df-convert:hover {\n",
              "      background-color: #434B5C;\n",
              "      box-shadow: 0px 1px 3px 1px rgba(0, 0, 0, 0.15);\n",
              "      filter: drop-shadow(0px 1px 2px rgba(0, 0, 0, 0.3));\n",
              "      fill: #FFFFFF;\n",
              "    }\n",
              "  </style>\n",
              "\n",
              "    <script>\n",
              "      const buttonEl =\n",
              "        document.querySelector('#df-ee34f139-f716-4064-9b5f-fb8570e9ef30 button.colab-df-convert');\n",
              "      buttonEl.style.display =\n",
              "        google.colab.kernel.accessAllowed ? 'block' : 'none';\n",
              "\n",
              "      async function convertToInteractive(key) {\n",
              "        const element = document.querySelector('#df-ee34f139-f716-4064-9b5f-fb8570e9ef30');\n",
              "        const dataTable =\n",
              "          await google.colab.kernel.invokeFunction('convertToInteractive',\n",
              "                                                    [key], {});\n",
              "        if (!dataTable) return;\n",
              "\n",
              "        const docLinkHtml = 'Like what you see? Visit the ' +\n",
              "          '<a target=\"_blank\" href=https://colab.research.google.com/notebooks/data_table.ipynb>data table notebook</a>'\n",
              "          + ' to learn more about interactive tables.';\n",
              "        element.innerHTML = '';\n",
              "        dataTable['output_type'] = 'display_data';\n",
              "        await google.colab.output.renderOutput(dataTable, element);\n",
              "        const docLink = document.createElement('div');\n",
              "        docLink.innerHTML = docLinkHtml;\n",
              "        element.appendChild(docLink);\n",
              "      }\n",
              "    </script>\n",
              "  </div>\n",
              "\n",
              "\n",
              "<div id=\"df-d8f7e144-6a0d-4335-9d77-1a5c4fab9278\">\n",
              "  <button class=\"colab-df-quickchart\" onclick=\"quickchart('df-d8f7e144-6a0d-4335-9d77-1a5c4fab9278')\"\n",
              "            title=\"Suggest charts\"\n",
              "            style=\"display:none;\">\n",
              "\n",
              "<svg xmlns=\"http://www.w3.org/2000/svg\" height=\"24px\"viewBox=\"0 0 24 24\"\n",
              "     width=\"24px\">\n",
              "    <g>\n",
              "        <path d=\"M19 3H5c-1.1 0-2 .9-2 2v14c0 1.1.9 2 2 2h14c1.1 0 2-.9 2-2V5c0-1.1-.9-2-2-2zM9 17H7v-7h2v7zm4 0h-2V7h2v10zm4 0h-2v-4h2v4z\"/>\n",
              "    </g>\n",
              "</svg>\n",
              "  </button>\n",
              "\n",
              "<style>\n",
              "  .colab-df-quickchart {\n",
              "      --bg-color: #E8F0FE;\n",
              "      --fill-color: #1967D2;\n",
              "      --hover-bg-color: #E2EBFA;\n",
              "      --hover-fill-color: #174EA6;\n",
              "      --disabled-fill-color: #AAA;\n",
              "      --disabled-bg-color: #DDD;\n",
              "  }\n",
              "\n",
              "  [theme=dark] .colab-df-quickchart {\n",
              "      --bg-color: #3B4455;\n",
              "      --fill-color: #D2E3FC;\n",
              "      --hover-bg-color: #434B5C;\n",
              "      --hover-fill-color: #FFFFFF;\n",
              "      --disabled-bg-color: #3B4455;\n",
              "      --disabled-fill-color: #666;\n",
              "  }\n",
              "\n",
              "  .colab-df-quickchart {\n",
              "    background-color: var(--bg-color);\n",
              "    border: none;\n",
              "    border-radius: 50%;\n",
              "    cursor: pointer;\n",
              "    display: none;\n",
              "    fill: var(--fill-color);\n",
              "    height: 32px;\n",
              "    padding: 0;\n",
              "    width: 32px;\n",
              "  }\n",
              "\n",
              "  .colab-df-quickchart:hover {\n",
              "    background-color: var(--hover-bg-color);\n",
              "    box-shadow: 0 1px 2px rgba(60, 64, 67, 0.3), 0 1px 3px 1px rgba(60, 64, 67, 0.15);\n",
              "    fill: var(--button-hover-fill-color);\n",
              "  }\n",
              "\n",
              "  .colab-df-quickchart-complete:disabled,\n",
              "  .colab-df-quickchart-complete:disabled:hover {\n",
              "    background-color: var(--disabled-bg-color);\n",
              "    fill: var(--disabled-fill-color);\n",
              "    box-shadow: none;\n",
              "  }\n",
              "\n",
              "  .colab-df-spinner {\n",
              "    border: 2px solid var(--fill-color);\n",
              "    border-color: transparent;\n",
              "    border-bottom-color: var(--fill-color);\n",
              "    animation:\n",
              "      spin 1s steps(1) infinite;\n",
              "  }\n",
              "\n",
              "  @keyframes spin {\n",
              "    0% {\n",
              "      border-color: transparent;\n",
              "      border-bottom-color: var(--fill-color);\n",
              "      border-left-color: var(--fill-color);\n",
              "    }\n",
              "    20% {\n",
              "      border-color: transparent;\n",
              "      border-left-color: var(--fill-color);\n",
              "      border-top-color: var(--fill-color);\n",
              "    }\n",
              "    30% {\n",
              "      border-color: transparent;\n",
              "      border-left-color: var(--fill-color);\n",
              "      border-top-color: var(--fill-color);\n",
              "      border-right-color: var(--fill-color);\n",
              "    }\n",
              "    40% {\n",
              "      border-color: transparent;\n",
              "      border-right-color: var(--fill-color);\n",
              "      border-top-color: var(--fill-color);\n",
              "    }\n",
              "    60% {\n",
              "      border-color: transparent;\n",
              "      border-right-color: var(--fill-color);\n",
              "    }\n",
              "    80% {\n",
              "      border-color: transparent;\n",
              "      border-right-color: var(--fill-color);\n",
              "      border-bottom-color: var(--fill-color);\n",
              "    }\n",
              "    90% {\n",
              "      border-color: transparent;\n",
              "      border-bottom-color: var(--fill-color);\n",
              "    }\n",
              "  }\n",
              "</style>\n",
              "\n",
              "  <script>\n",
              "    async function quickchart(key) {\n",
              "      const quickchartButtonEl =\n",
              "        document.querySelector('#' + key + ' button');\n",
              "      quickchartButtonEl.disabled = true;  // To prevent multiple clicks.\n",
              "      quickchartButtonEl.classList.add('colab-df-spinner');\n",
              "      try {\n",
              "        const charts = await google.colab.kernel.invokeFunction(\n",
              "            'suggestCharts', [key], {});\n",
              "      } catch (error) {\n",
              "        console.error('Error during call to suggestCharts:', error);\n",
              "      }\n",
              "      quickchartButtonEl.classList.remove('colab-df-spinner');\n",
              "      quickchartButtonEl.classList.add('colab-df-quickchart-complete');\n",
              "    }\n",
              "    (() => {\n",
              "      let quickchartButtonEl =\n",
              "        document.querySelector('#df-d8f7e144-6a0d-4335-9d77-1a5c4fab9278 button');\n",
              "      quickchartButtonEl.style.display =\n",
              "        google.colab.kernel.accessAllowed ? 'block' : 'none';\n",
              "    })();\n",
              "  </script>\n",
              "</div>\n",
              "\n",
              "    </div>\n",
              "  </div>\n"
            ],
            "application/vnd.google.colaboratory.intrinsic+json": {
              "type": "dataframe",
              "variable_name": "df",
              "summary": "{\n  \"name\": \"df\",\n  \"rows\": 1000,\n  \"fields\": [\n    {\n      \"column\": \"input\",\n      \"properties\": {\n        \"dtype\": \"string\",\n        \"num_unique_values\": 500,\n        \"samples\": [\n          \"<main>\\n    <p class=\\\"introf-443\\\">This is introduction paragraph 443.</p>\\n    <section>\\n        <h2>Section Title 443</h2>\\n    </section>\\n    <article>\\n        <h3 class=\\\"takeaway-443\\\">Article Title 443</h3>\\n        <p class=\\\"Artile-informations\\\" name=\\\"article-name-443\\\">Article content 443.</p>\\n    </article>\\n</main>\",\n          \"<main>\\n    <p class=\\\"introf-78\\\">This is introduction paragraph 78.</p>\\n    <section>\\n        <h2>Section Title 78</h2>\\n    </section>\\n    <article>\\n        <h3 class=\\\"takeaway-78\\\">Article Title 78</h3>\\n        <p class=\\\"Artile-informations\\\" name=\\\"article-name-78\\\">Article content 78.</p>\\n    </article>\\n</main>\",\n          \"<main>\\n    <p class=\\\"introf-77\\\">This is introduction paragraph 77.</p>\\n    <section>\\n        <h2>Section Title 77</h2>\\n    </section>\\n    <article>\\n        <h3 class=\\\"takeaway-77\\\">Article Title 77</h3>\\n        <p class=\\\"Artile-informations\\\" name=\\\"article-name-77\\\">Article content 77.</p>\\n    </article>\\n</main>\"\n        ],\n        \"semantic_type\": \"\",\n        \"description\": \"\"\n      }\n    },\n    {\n      \"column\": \"output\",\n      \"properties\": {\n        \"dtype\": \"string\",\n        \"num_unique_values\": 500,\n        \"samples\": [\n          \"<p class=\\\"Artile-informations\\\" name=\\\"article-name-443\\\">Article content 443.</p>\",\n          \"<p class=\\\"Artile-informations\\\" name=\\\"article-name-78\\\">Article content 78.</p>\",\n          \"<p class=\\\"Artile-informations\\\" name=\\\"article-name-77\\\">Article content 77.</p>\"\n        ],\n        \"semantic_type\": \"\",\n        \"description\": \"\"\n      }\n    }\n  ]\n}"
            }
          },
          "metadata": {},
          "execution_count": 15
        }
      ]
    },
    {
      "cell_type": "code",
      "source": [
        "from lxml import etree\n",
        "\n",
        "def parse_html_to_sentence(html):\n",
        "    # Parse the HTML string\n",
        "    parser = etree.HTMLParser()\n",
        "    tree = etree.fromstring(html, parser)\n",
        "\n",
        "    # Function to process each element\n",
        "    def process_element(element):\n",
        "        result = []\n",
        "        # Append tag name\n",
        "        result.append(element.tag)\n",
        "\n",
        "        # Append attributes if any\n",
        "        for attr, value in element.attrib.items():\n",
        "            result.append(f'{attr}=\"{value}\"')\n",
        "\n",
        "        # Append text if any\n",
        "        if element.text and element.text.strip():\n",
        "            result.append(element.text.strip())\n",
        "\n",
        "        return ' '.join(result)\n",
        "\n",
        "    # Traverse the tree and collect the results\n",
        "    results = []\n",
        "    for elem in tree.iter():\n",
        "        result = process_element(elem)\n",
        "        if result:\n",
        "            results.append(result)\n",
        "\n",
        "    # Join all the results into a single sentence\n",
        "    sentence = ' '.join(results)\n",
        "    return sentence\n",
        "\n",
        "\n",
        "# # Parse and convert to sentence\n",
        "# sentence = parse_html_to_sentence(html)\n",
        "# print(sentence)\n",
        "\n"
      ],
      "metadata": {
        "id": "Ao1bXZKFRhTs"
      },
      "execution_count": null,
      "outputs": []
    },
    {
      "cell_type": "code",
      "source": [
        "from lxml import etree\n",
        "\n",
        "def parse_html_to_sentence2(html):\n",
        "    # Parse the HTML string\n",
        "    parser = etree.HTMLParser()\n",
        "    tree = etree.fromstring(html, parser)\n",
        "\n",
        "    # Function to process each element\n",
        "    def process_element(element):\n",
        "        result = []\n",
        "        # Append tag name\n",
        "        result.append(element.tag)\n",
        "\n",
        "        # Append attributes if any\n",
        "        for attr, value in element.attrib.items():\n",
        "            result.append(f'{attr}=\"{value}\"')\n",
        "\n",
        "        # Append text if any\n",
        "        if element.text and element.text.strip():\n",
        "            result.append(element.text.strip())\n",
        "\n",
        "        return ' '.join(result)\n",
        "\n",
        "    # Traverse the tree and collect the results\n",
        "    results = []\n",
        "    for elem in tree.iter():\n",
        "        result = process_element(elem)\n",
        "        if result:\n",
        "            results.append(result)\n",
        "\n",
        "    # Join all the results into a single sentence\n",
        "    sentence = ' '.join(results)\n",
        "    return sentence.replace(\"html body\",\"\")\n",
        "\n",
        "\n",
        "# # Parse and convert to sentence\n",
        "# sentence = parse_html_to_sentence(html)\n",
        "# print(sentence)\n",
        "\n"
      ],
      "metadata": {
        "id": "FM5r2QjnYBUF"
      },
      "execution_count": null,
      "outputs": []
    },
    {
      "cell_type": "code",
      "source": [
        "df['ParsedInput'] = df['input'].apply(parse_html_to_sentence)\n",
        "df['ParsedOutput'] = df['output'].apply(parse_html_to_sentence2)\n",
        "df = df.drop(['input','output'], axis='columns')\n"
      ],
      "metadata": {
        "id": "jZnv0fSnXzSx"
      },
      "execution_count": null,
      "outputs": []
    },
    {
      "cell_type": "code",
      "source": [
        "print(df.iloc[1,0])\n",
        "print(df.iloc[1,1])"
      ],
      "metadata": {
        "colab": {
          "base_uri": "https://localhost:8080/"
        },
        "id": "V7y-SBOrY5S6",
        "outputId": "05e22dfd-f1c0-4796-94c6-ee32a217a14d"
      },
      "execution_count": null,
      "outputs": [
        {
          "output_type": "stream",
          "name": "stdout",
          "text": [
            "html body main p class=\"introf-153\" This is introduction paragraph 153. section h2 Section Title 153 article h3 class=\"takeaway-153\" Article Title 153 p class=\"Artile-informations\" name=\"article-name-153\" Article content 153.\n",
            " p class=\"Artile-informations\" name=\"article-name-153\" Article content 153.\n"
          ]
        }
      ]
    },
    {
      "cell_type": "code",
      "source": [
        "WholeHtml = df['ParsedInput'].tolist()\n",
        "Req_element = df['ParsedOutput'].tolist()"
      ],
      "metadata": {
        "id": "qjHYvstMZPkl"
      },
      "execution_count": null,
      "outputs": []
    },
    {
      "cell_type": "code",
      "source": [
        "# Tokenize the paragraphs and sentences\n",
        "tokenizer = Tokenizer()\n",
        "tokenizer.fit_on_texts(WholeHtml + Req_element)"
      ],
      "metadata": {
        "id": "8K6BtwPfaaup"
      },
      "execution_count": null,
      "outputs": []
    },
    {
      "cell_type": "code",
      "source": [
        "paragraph_sequences = tokenizer.texts_to_sequences(WholeHtml)\n",
        "sentence_sequences = tokenizer.texts_to_sequences(Req_element)"
      ],
      "metadata": {
        "id": "WGGkekcJbdSu"
      },
      "execution_count": null,
      "outputs": []
    },
    {
      "cell_type": "code",
      "source": [
        "# Pad sequences\n",
        "max_paragraph_length = max([len(seq) for seq in paragraph_sequences])\n",
        "max_sentence_length = max([len(seq) for seq in sentence_sequences])\n",
        "vocab_size = len(tokenizer.word_index) + 1"
      ],
      "metadata": {
        "id": "MI5UCs3Yclcd"
      },
      "execution_count": null,
      "outputs": []
    },
    {
      "cell_type": "code",
      "source": [
        "paragraph_sequences = pad_sequences(paragraph_sequences, maxlen=max_paragraph_length, padding='post')\n",
        "sentence_sequences = pad_sequences(sentence_sequences, maxlen=max_sentence_length, padding='post')"
      ],
      "metadata": {
        "id": "9LZOV26Iclek"
      },
      "execution_count": null,
      "outputs": []
    },
    {
      "cell_type": "code",
      "source": [
        "\n",
        "# Define model architecture\n",
        "def build_model(vocab_size, max_paragraph_length, max_sentence_length):\n",
        "    # Encoder\n",
        "    encoder_inputs = Input(shape=(max_paragraph_length,))\n",
        "    x = Embedding(input_dim=vocab_size, output_dim=128)(encoder_inputs)\n",
        "    x = LSTM(128, return_sequences=False)(x)\n",
        "\n",
        "    # Decoder\n",
        "    decoder_inputs = Input(shape=(max_sentence_length,))\n",
        "    y = Embedding(input_dim=vocab_size, output_dim=128)(decoder_inputs)\n",
        "    y = LSTM(128, return_sequences=True)(y)\n",
        "    decoder_outputs = TimeDistributed(Dense(vocab_size, activation='softmax'))(y)\n",
        "\n",
        "    # Model\n",
        "    model = Model([encoder_inputs, decoder_inputs], decoder_outputs)\n",
        "    model.compile(optimizer='adam', loss='sparse_categorical_crossentropy', metrics=['accuracy'])\n",
        "\n",
        "    return model\n"
      ],
      "metadata": {
        "id": "kNOxkh0CcljP"
      },
      "execution_count": null,
      "outputs": []
    },
    {
      "cell_type": "code",
      "source": [
        "model = build_model(vocab_size, max_paragraph_length, max_sentence_length)"
      ],
      "metadata": {
        "id": "Dy4wZ6XVcllZ"
      },
      "execution_count": null,
      "outputs": []
    },
    {
      "cell_type": "code",
      "source": [
        "# Prepare targets for training\n",
        "decoder_input_data = np.zeros((sentence_sequences.shape[0], max_sentence_length))\n",
        "decoder_output_data = np.expand_dims(sentence_sequences, -1)  # For sparse categorical crossentropy"
      ],
      "metadata": {
        "id": "veqxJ39icln0"
      },
      "execution_count": null,
      "outputs": []
    },
    {
      "cell_type": "code",
      "source": [
        "model.fit([paragraph_sequences, decoder_input_data], decoder_output_data, epochs=20, batch_size=2)"
      ],
      "metadata": {
        "colab": {
          "base_uri": "https://localhost:8080/"
        },
        "id": "InyNJJcLclrd",
        "outputId": "cb201023-6c63-4b78-b533-d7991ebfb44d"
      },
      "execution_count": null,
      "outputs": [
        {
          "output_type": "stream",
          "name": "stdout",
          "text": [
            "Epoch 1/20\n",
            "500/500 [==============================] - 10s 15ms/step - loss: 2.0440 - accuracy: 0.6509\n",
            "Epoch 2/20\n",
            "500/500 [==============================] - 8s 16ms/step - loss: 1.1538 - accuracy: 0.8182\n",
            "Epoch 3/20\n",
            "500/500 [==============================] - 7s 14ms/step - loss: 1.1426 - accuracy: 0.8182\n",
            "Epoch 4/20\n",
            "500/500 [==============================] - 8s 17ms/step - loss: 1.1394 - accuracy: 0.8182\n",
            "Epoch 5/20\n",
            "500/500 [==============================] - 7s 14ms/step - loss: 1.1376 - accuracy: 0.8182\n",
            "Epoch 6/20\n",
            "500/500 [==============================] - 9s 18ms/step - loss: 1.1366 - accuracy: 0.8182\n",
            "Epoch 7/20\n",
            "500/500 [==============================] - 7s 14ms/step - loss: 1.1357 - accuracy: 0.8182\n",
            "Epoch 8/20\n",
            "500/500 [==============================] - 9s 17ms/step - loss: 1.1353 - accuracy: 0.8182\n",
            "Epoch 9/20\n",
            "500/500 [==============================] - 8s 15ms/step - loss: 1.1348 - accuracy: 0.8182\n",
            "Epoch 10/20\n",
            "500/500 [==============================] - 8s 15ms/step - loss: 1.1344 - accuracy: 0.8182\n",
            "Epoch 11/20\n",
            "500/500 [==============================] - 9s 17ms/step - loss: 1.1340 - accuracy: 0.8183\n",
            "Epoch 12/20\n",
            "500/500 [==============================] - 7s 14ms/step - loss: 1.1338 - accuracy: 0.8184\n",
            "Epoch 13/20\n",
            "500/500 [==============================] - 8s 16ms/step - loss: 1.1334 - accuracy: 0.8183\n",
            "Epoch 14/20\n",
            "500/500 [==============================] - 7s 14ms/step - loss: 1.1332 - accuracy: 0.8182\n",
            "Epoch 15/20\n",
            "500/500 [==============================] - 8s 16ms/step - loss: 1.1330 - accuracy: 0.8184\n",
            "Epoch 16/20\n",
            "500/500 [==============================] - 7s 14ms/step - loss: 1.1334 - accuracy: 0.8182\n",
            "Epoch 17/20\n",
            "500/500 [==============================] - 8s 17ms/step - loss: 1.1325 - accuracy: 0.8184\n",
            "Epoch 18/20\n",
            "500/500 [==============================] - 8s 15ms/step - loss: 1.1323 - accuracy: 0.8183\n",
            "Epoch 19/20\n",
            "500/500 [==============================] - 8s 15ms/step - loss: 1.1321 - accuracy: 0.8185\n",
            "Epoch 20/20\n",
            "500/500 [==============================] - 8s 17ms/step - loss: 1.1320 - accuracy: 0.8182\n"
          ]
        },
        {
          "output_type": "execute_result",
          "data": {
            "text/plain": [
              "<keras.src.callbacks.History at 0x7b8bfc530a00>"
            ]
          },
          "metadata": {},
          "execution_count": 54
        }
      ]
    },
    {
      "cell_type": "code",
      "source": [
        "def generate_sentence(paragraph):\n",
        "    sequence = tokenizer.texts_to_sequences([paragraph])\n",
        "    padded_sequence = pad_sequences(sequence, maxlen=max_paragraph_length, padding='post')\n",
        "\n",
        "    # Create decoder input (initially all zeros)\n",
        "    decoder_input_data = np.zeros((1, max_sentence_length))\n",
        "    prediction = model.predict([padded_sequence, decoder_input_data])\n",
        "\n",
        "    # Convert prediction to text\n",
        "    predicted_sequence = np.argmax(prediction, axis=-1)\n",
        "    predicted_sentence = tokenizer.sequences_to_texts(predicted_sequence)\n",
        "\n",
        "    return predicted_sentence[0]\n"
      ],
      "metadata": {
        "id": "GWjwRZmtdehy"
      },
      "execution_count": null,
      "outputs": []
    },
    {
      "cell_type": "code",
      "source": [
        "# Example usage\n",
        "paragraph = \"\"\"html body main p class=\"introf-153\" This is introduction paragraph 153. section h2 Section Title 153 article h3 class=\"takeaway-153\" Article Title 153 p class=\"Artile-informations\" name=\"article-name-153\" Article content 153.\"\"\"\n",
        "print(generate_sentence(paragraph))"
      ],
      "metadata": {
        "colab": {
          "base_uri": "https://localhost:8080/"
        },
        "id": "N-rtf2-zdekU",
        "outputId": "cfcec99a-01b5-4b0a-ac04-4108cbe7c16d"
      },
      "execution_count": null,
      "outputs": [
        {
          "output_type": "stream",
          "name": "stdout",
          "text": [
            "1/1 [==============================] - 1s 509ms/step\n",
            "p class artile informations name article name 439 article content 439\n"
          ]
        }
      ]
    },
    {
      "cell_type": "code",
      "source": [],
      "metadata": {
        "id": "cuGIbBBHdemg"
      },
      "execution_count": null,
      "outputs": []
    },
    {
      "cell_type": "code",
      "source": [],
      "metadata": {
        "id": "bvXMrdTIcluR"
      },
      "execution_count": null,
      "outputs": []
    },
    {
      "cell_type": "code",
      "source": [],
      "metadata": {
        "id": "OE_7itnlbdXQ"
      },
      "execution_count": null,
      "outputs": []
    }
  ]
}