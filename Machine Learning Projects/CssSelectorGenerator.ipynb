{
  "nbformat": 4,
  "nbformat_minor": 0,
  "metadata": {
    "colab": {
      "provenance": []
    },
    "kernelspec": {
      "name": "python3",
      "display_name": "Python 3"
    },
    "language_info": {
      "name": "python"
    }
  },
  "cells": [
    {
      "cell_type": "markdown",
      "source": [
        "We Train a Linear Regression Model to Generate a CssSelector by inputting HTML Elements."
      ],
      "metadata": {
        "id": "9Jcz4zAQKiTz"
      }
    },
    {
      "cell_type": "code",
      "execution_count": null,
      "metadata": {
        "colab": {
          "base_uri": "https://localhost:8080/"
        },
        "id": "3c59n2ZjUREU",
        "outputId": "89d5e7c8-7024-4d68-d2a2-16c301174a72"
      },
      "outputs": [
        {
          "output_type": "stream",
          "name": "stdout",
          "text": [
            "                                 Column1  \\\n",
            "367   footer class container name webapp   \n",
            "368                  div class container   \n",
            "369  article class container name webapp   \n",
            "370              article class container   \n",
            "371      div class container name webapp   \n",
            "\n",
            "                                       Column2  \n",
            "367   footer[class='container'][name='webapp']  \n",
            "368                     div[class='container']  \n",
            "369  article[class='container'][name='webapp']  \n",
            "370                 article[class='container']  \n",
            "371      div[class='container'][name='webapp']  \n"
          ]
        }
      ],
      "source": [
        "import pandas as pd\n",
        "\n",
        "df1 = pd.read_csv('CSSSelector.csv')\n",
        "\n",
        "\n",
        "\n",
        "print(df1.tail())"
      ]
    },
    {
      "cell_type": "code",
      "source": [
        "import re\n",
        "\n",
        "def modify_text(text):\n",
        "  modify = text.replace('[',' [ ').replace('=',' = ').replace('\\'', ' \\' ').replace(']',' ]')\n",
        "  remodify = re.sub(r'\\s+', ' ', modify)\n",
        "  return remodify.strip()\n",
        "\n",
        "df1.iloc[:,1]=df1.iloc[:,1].apply(modify_text)\n",
        "\n",
        "print(df1.head)\n",
        "print(df1.tail)\n",
        "print(df1.iloc[371,1])"
      ],
      "metadata": {
        "colab": {
          "base_uri": "https://localhost:8080/"
        },
        "id": "M76UYM2GWTeC",
        "outputId": "728f74f3-d3cd-4381-b97a-77e16f972e6a"
      },
      "execution_count": null,
      "outputs": [
        {
          "output_type": "stream",
          "name": "stdout",
          "text": [
            "<bound method NDFrame.head of                                  Column1  \\\n",
            "0        div class container name webapp   \n",
            "1     footer class container name webapp   \n",
            "2     footer class container name webapp   \n",
            "3                article class container   \n",
            "4                 footer class container   \n",
            "..                                   ...   \n",
            "367   footer class container name webapp   \n",
            "368                  div class container   \n",
            "369  article class container name webapp   \n",
            "370              article class container   \n",
            "371      div class container name webapp   \n",
            "\n",
            "                                               Column2  \n",
            "0    div [ class = ' container ' ] [ name = ' webap...  \n",
            "1    footer [ class = ' container ' ] [ name = ' we...  \n",
            "2    footer [ class = ' container ' ] [ name = ' we...  \n",
            "3                    article [ class = ' container ' ]  \n",
            "4                     footer [ class = ' container ' ]  \n",
            "..                                                 ...  \n",
            "367  footer [ class = ' container ' ] [ name = ' we...  \n",
            "368                      div [ class = ' container ' ]  \n",
            "369  article [ class = ' container ' ] [ name = ' w...  \n",
            "370                  article [ class = ' container ' ]  \n",
            "371  div [ class = ' container ' ] [ name = ' webap...  \n",
            "\n",
            "[372 rows x 2 columns]>\n",
            "<bound method NDFrame.tail of                                  Column1  \\\n",
            "0        div class container name webapp   \n",
            "1     footer class container name webapp   \n",
            "2     footer class container name webapp   \n",
            "3                article class container   \n",
            "4                 footer class container   \n",
            "..                                   ...   \n",
            "367   footer class container name webapp   \n",
            "368                  div class container   \n",
            "369  article class container name webapp   \n",
            "370              article class container   \n",
            "371      div class container name webapp   \n",
            "\n",
            "                                               Column2  \n",
            "0    div [ class = ' container ' ] [ name = ' webap...  \n",
            "1    footer [ class = ' container ' ] [ name = ' we...  \n",
            "2    footer [ class = ' container ' ] [ name = ' we...  \n",
            "3                    article [ class = ' container ' ]  \n",
            "4                     footer [ class = ' container ' ]  \n",
            "..                                                 ...  \n",
            "367  footer [ class = ' container ' ] [ name = ' we...  \n",
            "368                      div [ class = ' container ' ]  \n",
            "369  article [ class = ' container ' ] [ name = ' w...  \n",
            "370                  article [ class = ' container ' ]  \n",
            "371  div [ class = ' container ' ] [ name = ' webap...  \n",
            "\n",
            "[372 rows x 2 columns]>\n",
            "div [ class = ' container ' ] [ name = ' webapp ' ]\n"
          ]
        }
      ]
    },
    {
      "cell_type": "code",
      "source": [
        "new_df1 = pd.DataFrame({'column1': df1.iloc[:,0], 'Modified_column2':df1.iloc[:,1]})\n",
        "\n",
        "print(new_df1.head())"
      ],
      "metadata": {
        "colab": {
          "base_uri": "https://localhost:8080/"
        },
        "id": "6jbJL2nXWTi9",
        "outputId": "38ef5b22-0ea5-4196-9011-fb0079e430ea"
      },
      "execution_count": null,
      "outputs": [
        {
          "output_type": "stream",
          "name": "stdout",
          "text": [
            "                              column1  \\\n",
            "0     div class container name webapp   \n",
            "1  footer class container name webapp   \n",
            "2  footer class container name webapp   \n",
            "3             article class container   \n",
            "4              footer class container   \n",
            "\n",
            "                                    Modified_column2  \n",
            "0  div [ class = ' container ' ] [ name = ' webap...  \n",
            "1  footer [ class = ' container ' ] [ name = ' we...  \n",
            "2  footer [ class = ' container ' ] [ name = ' we...  \n",
            "3                  article [ class = ' container ' ]  \n",
            "4                   footer [ class = ' container ' ]  \n"
          ]
        }
      ]
    },
    {
      "cell_type": "code",
      "source": [
        "# Define default values for special characters and gap for words\n",
        "special_characters = {'/': 5, '@': 10, '[':15, ']':20, '\\'':25, '=':30,'div': 35,\n",
        "    'p': 40,\n",
        "    'h1': 45,\n",
        "    'h2': 50,\n",
        "    'h3': 55,\n",
        "    'h4': 60,\n",
        "    'h5': 65,\n",
        "    'h6': 70,\n",
        "    'a': 75,\n",
        "    'img': 80,\n",
        "    'span': 85,\n",
        "    'ul': 90,\n",
        "    'li': 95,\n",
        "    'form': 100,\n",
        "    'input': 105,\n",
        "    'button': 110,\n",
        "    'label': 115,\n",
        "    'section': 120,\n",
        "    'header': 125,\n",
        "    'nav': 130,\n",
        "    'footer': 135,\n",
        "    'table': 140,\n",
        "    'tr': 145,\n",
        "    'td': 150,\n",
        "    'th': 155,\n",
        "    'article': 160,\n",
        "    'aside': 165,\n",
        "    'main': 170,\n",
        "    'blockquote': 175,\n",
        "    'cite': 180,\n",
        "    'textarea': 185,\n",
        "    'strong': 190,\n",
        "    'iframe': 195,\n",
        "    'video': 200,\n",
        "    'audio': 205,\n",
        "    'source': 210,\n",
        "    'ol': 215,\n",
        "    'address': 220,\n",
        "    'b': 225,\n",
        "    'canvas': 230,\n",
        "    'caption': 235,\n",
        "    'code': 240,\n",
        "    'datalist': 245,\n",
        "    'del': 250,\n",
        "    'details': 255,\n",
        "    'dialog': 260,\n",
        "    'fieldset': 265,\n",
        "    'figcaption': 270,\n",
        "    'figure': 275,\n",
        "    'footer': 280,\n",
        "    'header': 285,\n",
        "    'hr': 290,\n",
        "    'select': 295,\n",
        "    'ins': 300,\n",
        "    'kbd': 305,\n",
        "    'mark': 310,\n",
        "    'meter': 315,\n",
        "    'output': 320,\n",
        "    'progress': 325,\n",
        "    'q': 330,\n",
        "    'rp': 335,\n",
        "    'rt': 340,\n",
        "    'ruby': 345,\n",
        "    's': 350,\n",
        "    'samp': 355,\n",
        "    'small': 360,\n",
        "    'sub': 365,\n",
        "    'summary': 370,\n",
        "    'sup': 375,\n",
        "    'template': 380,\n",
        "    'time': 385,\n",
        "    'role': 390,\n",
        "    'var': 395,\n",
        "    'wbr': 400,\n",
        "    'class': 405,\n",
        "    'id': 410,\n",
        "    'name': 415,\n",
        "    'style': 420,\n",
        "    'href': 425,\n",
        "    'target': 430,\n",
        "    'src': 435,\n",
        "    'alt': 440,\n",
        "    'type': 445,\n",
        "    'value': 450,\n",
        "    'for': 455,\n",
        "    'action': 460,\n",
        "    'method': 465,\n",
        "    'title': 470,\n",
        "    'placeholder': 475,\n",
        "    'required': 480,\n",
        "    'checked': 485,\n",
        "    'disabled': 490,\n",
        "    'readonly': 495,\n",
        "    'size': 500,\n",
        "    'maxlength': 505,\n",
        "    'min': 510,\n",
        "    'max': 515,\n",
        "    'step': 520,\n",
        "    'rows': 525,\n",
        "    'cols': 530,\n",
        "    'autocomplete': 535,\n",
        "    'autofocus': 540,\n",
        "    'multiple': 545,\n",
        "    'pattern': 550,\n",
        "    'selected': 555,\n",
        "    'labels': 560,\n",
        "    'contenteditable': 565,\n",
        "    'spellcheck': 570,\n",
        "    'tabindex': 575,\n",
        "    'download': 580,\n",
        "    'rel': 585,\n",
        "    'size': 590,\n",
        "    'shape': 595,\n",
        "    'coords': 600,\n",
        "    'autoplay': 605,\n",
        "    'controls': 610,\n",
        "    'loop': 615,\n",
        "    'muted': 620,\n",
        "    'preload': 625,\n",
        "    'poster': 630,\n",
        "    'kind': 635,\n",
        "    'srclang': 640,\n",
        "    'sandbox': 645,\n",
        "    'allow': 650,\n",
        "    'height': 655,\n",
        "    'width': 660,\n",
        "    'srcdoc': 665,\n",
        "    'allowfullscreen': 670,\n",
        "    'allowpaymentrequest': 675,\n",
        "    'async': 680,\n",
        "    'charset': 685,\n",
        "    'defer': 690,\n",
        "    'language': 695,\n",
        "    'scoped': 700,\n",
        "    'wrap': 705,\n",
        "    'con': 710,\n",
        "    'http-equiv': 715,\n",
        "    'scheme': 720,\n",
        "    'usemap': 725,\n",
        "    'headers': 730,\n",
        "    'nowrap': 735,\n",
        "    'abbr': 740,\n",
        "    'scope': 745,\n",
        "    'rowspan': 750,\n",
        "    'colspan': 755,\n",
        "    'align': 760,\n",
        "    'valign': 765,\n",
        "    'bgcolor': 770,\n",
        "    'char': 775,\n",
        "    'charoff': 780,\n",
        "    'clear': 785,\n",
        "    'dir': 790,\n",
        "    'lang': 795,\n",
        "    'xml:lang': 800,\n",
        "    'compact': 805,\n",
        "    'cite': 810,\n",
        "    'datetime': 815,\n",
        "    'start': 820,\n",
        "    'reversed': 825,\n",
        "    'classid': 830,\n",
        "    'codebase': 835,\n",
        "    'data': 840,\n",
        "    'archive': 845,\n",
        "    'declare': 850,\n",
        "    'standby': 855,\n",
        "    'vspace': 860,\n",
        "    'hspace': 865,\n",
        "    'axis': 870,\n",
        "    'longdesc': 875,\n",
        "    'border': 880,\n",
        "    'frame': 885,\n",
        "    'rules': 890,\n",
        "    'summary': 895,\n",
        "    'accept': 900,\n",
        "    'accept-charset': 905,\n",
        "    'enctype': 910,\n",
        "    'formaction': 915,\n",
        "    'formenctype': 920,\n",
        "    'formmethod': 925,\n",
        "    'formnovalidate': 930,\n",
        "    'formtarget': 935,\n",
        "    'autosave': 940,\n",
        "    'contextmenu': 945,\n",
        "    'draggable': 950,\n",
        "    'dropzone': 955,\n",
        "    'hidden': 960,\n",
        "    'translate': 965,\n",
        "    'alink': 970,\n",
        "    'background': 975,\n",
        "    'link': 980,\n",
        "    'text': 985,\n",
        "    'vlink': 990,\n",
        "    'default': 995,\n",
        "    'and':1000,\n",
        "    'data-test':1005,\n",
        "    'time':1010\n",
        "}\n",
        "word_indices1 = special_characters.copy()\n",
        "print(type(word_indices1))\n",
        "word_indices2 = special_characters.copy()\n",
        "print(type(word_indices2))"
      ],
      "metadata": {
        "colab": {
          "base_uri": "https://localhost:8080/"
        },
        "id": "ZM__HooaWTmK",
        "outputId": "f12f397b-1285-418d-a4df-4f5e84034ad9"
      },
      "execution_count": null,
      "outputs": [
        {
          "output_type": "stream",
          "name": "stdout",
          "text": [
            "<class 'dict'>\n",
            "<class 'dict'>\n"
          ]
        }
      ]
    },
    {
      "cell_type": "code",
      "source": [
        "output1 = []\n",
        "num_samples = len(new_df1)\n",
        "\n",
        "\n",
        "for i in range(num_samples):\n",
        "  next_index_column1=2000\n",
        "  column1_indices = []\n",
        "  modifyColumn_indices=[]\n",
        "  firstcol = new_df1.iloc[i,0]\n",
        "  secondcol = new_df1.iloc[i,1]\n",
        "\n",
        "\n",
        "  for word in firstcol.split():\n",
        "    if word in word_indices1:\n",
        "      column1_indices.append(word_indices1[word])\n",
        "    else:\n",
        "      word_indices1[word] = next_index_column1\n",
        "      column1_indices.append(next_index_column1)\n",
        "      next_index_column1 += 5\n",
        "\n",
        "  next_index_column1=2000\n",
        "\n",
        "\n",
        "  for word in secondcol.split():\n",
        "    if word in word_indices1:\n",
        "      modifyColumn_indices.append(word_indices1[word])\n",
        "\n",
        "  word_indices1 = special_characters.copy()\n",
        "\n",
        "\n",
        "  output1.append([column1_indices, modifyColumn_indices])\n",
        "\n",
        "# Convert to DataFrame\n",
        "df_output1 = pd.DataFrame(output1, columns=['column1', 'column2'])\n",
        "\n",
        "# Print the DataFrame\n",
        "print(df_output1)\n",
        "\n",
        "\n",
        "\n",
        "\n"
      ],
      "metadata": {
        "colab": {
          "base_uri": "https://localhost:8080/"
        },
        "id": "p1Ndmv53WToy",
        "outputId": "c8404f4f-5100-42a1-ae92-365d59fdb05b"
      },
      "execution_count": null,
      "outputs": [
        {
          "output_type": "stream",
          "name": "stdout",
          "text": [
            "                         column1  \\\n",
            "0     [35, 405, 2000, 415, 2005]   \n",
            "1    [280, 405, 2000, 415, 2005]   \n",
            "2    [280, 405, 2000, 415, 2005]   \n",
            "3               [160, 405, 2000]   \n",
            "4               [280, 405, 2000]   \n",
            "..                           ...   \n",
            "367  [280, 405, 2000, 415, 2005]   \n",
            "368              [35, 405, 2000]   \n",
            "369  [160, 405, 2000, 415, 2005]   \n",
            "370             [160, 405, 2000]   \n",
            "371   [35, 405, 2000, 415, 2005]   \n",
            "\n",
            "                                               column2  \n",
            "0    [35, 15, 405, 30, 25, 2000, 25, 20, 15, 415, 3...  \n",
            "1    [280, 15, 405, 30, 25, 2000, 25, 20, 15, 415, ...  \n",
            "2    [280, 15, 405, 30, 25, 2000, 25, 20, 15, 415, ...  \n",
            "3                 [160, 15, 405, 30, 25, 2000, 25, 20]  \n",
            "4                 [280, 15, 405, 30, 25, 2000, 25, 20]  \n",
            "..                                                 ...  \n",
            "367  [280, 15, 405, 30, 25, 2000, 25, 20, 15, 415, ...  \n",
            "368                [35, 15, 405, 30, 25, 2000, 25, 20]  \n",
            "369  [160, 15, 405, 30, 25, 2000, 25, 20, 15, 415, ...  \n",
            "370               [160, 15, 405, 30, 25, 2000, 25, 20]  \n",
            "371  [35, 15, 405, 30, 25, 2000, 25, 20, 15, 415, 3...  \n",
            "\n",
            "[372 rows x 2 columns]\n"
          ]
        }
      ]
    },
    {
      "cell_type": "code",
      "source": [
        "import numpy as np\n",
        "max_length = 50\n",
        "# Transform all samples' lengths into max length by adding zeros\n",
        "df_output1.iloc[:,0] = df_output1.iloc[:,0].apply(lambda x: np.pad(x, (0, max_length - len(x)), 'constant'))\n",
        "df_output1.iloc[:,1] = df_output1.iloc[:,1].apply(lambda x: np.pad(x, (0, max_length - len(x)), 'constant'))\n",
        "\n",
        "# Display the first few rows of the updated DataFrame\n",
        "# print(df_output1.head())\n",
        "# print(df_output1.tail())\n",
        "\n",
        "# print(df_output1.iloc[11987,0])\n",
        "print(df_output1.iloc[59,1])\n",
        "\n",
        "# print(df_output1.iloc[11204,0])\n",
        "# print(df_output1.iloc[11204,1])\n",
        "\n",
        "# df_output1.to_csv('output.csv', index=False)"
      ],
      "metadata": {
        "colab": {
          "base_uri": "https://localhost:8080/"
        },
        "id": "XqyPZQdWWTrP",
        "outputId": "8277f15a-011c-4c38-8ee0-952f18b1b762"
      },
      "execution_count": null,
      "outputs": [
        {
          "output_type": "stream",
          "name": "stdout",
          "text": [
            "[ 160   15  405   30   25 2000   25   20   15  415   30   25 2005   25\n",
            "   20    0    0    0    0    0    0    0    0    0    0    0    0    0\n",
            "    0    0    0    0    0    0    0    0    0    0    0    0    0    0\n",
            "    0    0    0    0    0    0    0    0]\n"
          ]
        }
      ]
    },
    {
      "cell_type": "code",
      "source": [
        "from sklearn.model_selection import train_test_split\n",
        "from sklearn.linear_model import LinearRegression\n",
        "from sklearn.metrics import mean_squared_error"
      ],
      "metadata": {
        "id": "K0pSN9pKWTuW"
      },
      "execution_count": null,
      "outputs": []
    },
    {
      "cell_type": "code",
      "source": [
        "input_array = np.array(df_output1.iloc[:,0].tolist())\n",
        "output_array = np.array(df_output1.iloc[:,1].tolist())\n",
        "\n",
        "print(input_array)"
      ],
      "metadata": {
        "colab": {
          "base_uri": "https://localhost:8080/"
        },
        "id": "m5mAl0iTWTxF",
        "outputId": "0fd721b1-088e-4ec5-9b26-d89be9d88fc1"
      },
      "execution_count": null,
      "outputs": [
        {
          "output_type": "stream",
          "name": "stdout",
          "text": [
            "[[  35  405 2000 ...    0    0    0]\n",
            " [ 280  405 2000 ...    0    0    0]\n",
            " [ 280  405 2000 ...    0    0    0]\n",
            " ...\n",
            " [ 160  405 2000 ...    0    0    0]\n",
            " [ 160  405 2000 ...    0    0    0]\n",
            " [  35  405 2000 ...    0    0    0]]\n"
          ]
        }
      ]
    },
    {
      "cell_type": "code",
      "source": [
        "X_train, X_test, y_train, y_test = train_test_split(input_array, output_array, test_size=0.2, random_state=42)\n",
        "model = LinearRegression()\n",
        "\n",
        "model.fit(X_train, y_train)\n",
        "\n",
        "y_pred = model.predict(X_test)\n",
        "\n",
        "mse = mean_squared_error(y_test, y_pred)\n",
        "print(mse)"
      ],
      "metadata": {
        "colab": {
          "base_uri": "https://localhost:8080/"
        },
        "id": "ctwZMNhDWTzS",
        "outputId": "03ca0999-5c19-489e-ff97-feaa53fe99fc"
      },
      "execution_count": null,
      "outputs": [
        {
          "output_type": "stream",
          "name": "stdout",
          "text": [
            "2.7556948180545584e-27\n"
          ]
        }
      ]
    },
    {
      "cell_type": "code",
      "source": [
        "# new_element_id_array = [35, 415, 2000, 0, 0, 0,0, 0, 0, 0, 0, 0, 0, 0, 0, 0, 0,0,0,0,0, 0, 0, 0, 0, 0, 0,0,0,0,0, 0, 0, 0, 0, 0, 0,0,0,0,0, 0, 0, 0, 0, 0, 0,0,0,0]\n",
        "\n",
        "# new_element_id_array = np.array([new_element_id_array])\n",
        "\n",
        "#class=405 id=410 name=415\n",
        "word_indices2 = special_characters.copy()\n",
        "column1_indi = []\n",
        "next_index_colum = 2000\n",
        "element1 = ['aside','class','nav-menu','name','webapp']\n",
        "\n",
        "for item in element1:\n",
        "   if item in word_indices2:\n",
        "      column1_indi.append(word_indices2[item])\n",
        "\n",
        "   else:\n",
        "      word_indices2[item] = next_index_colum\n",
        "      column1_indi.append(next_index_colum)\n",
        "      print(next_index_colum)\n",
        "      next_index_colum += 5\n",
        "\n",
        "\n",
        "print(column1_indi)\n",
        "count = len(column1_indi)\n",
        "\n",
        "for i in range(50-count):\n",
        "  column1_indi.append(0)\n",
        "\n",
        "print(column1_indi)\n",
        "print(len(column1_indi))\n",
        "\n",
        "new_element_id_array = column1_indi\n",
        "new_element_id_array = np.array([new_element_id_array])\n",
        "\n",
        "#5, 5, 80, 15, 10, 410, 30, 25, 2000, 25, 20\n",
        "\n",
        "predicted_xpath_array = model.predict(new_element_id_array.reshape(1,-1))\n",
        "\n",
        "print(\"predicted Xpath array:\", predicted_xpath_array)\n",
        "print(len(predicted_xpath_array))\n",
        "print(type(predicted_xpath_array))\n",
        "\n",
        "\n",
        "rounded_numbers2 = (np.round(predicted_xpath_array / 5)* 5).astype(int)\n",
        "\n",
        "rounded_numbers_list2= rounded_numbers2.tolist()\n",
        "\n",
        "print(rounded_numbers_list2)\n",
        "reversing2 = {value: key for key, value in word_indices2.items()}\n",
        "words2 = [reversing2[number] for number in rounded_numbers2.flatten() if number != 0]\n",
        "\n",
        "replace_this = 'and'\n",
        "replace_with = ' and '\n",
        "\n",
        "newWords2 = [replace_with if x == replace_this else x for x in words2]\n",
        "\n",
        "print(newWords2)\n",
        "\n",
        "print(type(newWords2))\n",
        "\n",
        "result_xpath = ''.join(newWords2)\n",
        "print(result_xpath)"
      ],
      "metadata": {
        "colab": {
          "base_uri": "https://localhost:8080/"
        },
        "id": "ByevCBIcWT1u",
        "outputId": "5c0c2554-d8a1-4905-a367-ba00e404824c"
      },
      "execution_count": null,
      "outputs": [
        {
          "output_type": "stream",
          "name": "stdout",
          "text": [
            "2000\n",
            "2005\n",
            "[165, 405, 2000, 415, 2005]\n",
            "[165, 405, 2000, 415, 2005, 0, 0, 0, 0, 0, 0, 0, 0, 0, 0, 0, 0, 0, 0, 0, 0, 0, 0, 0, 0, 0, 0, 0, 0, 0, 0, 0, 0, 0, 0, 0, 0, 0, 0, 0, 0, 0, 0, 0, 0, 0, 0, 0, 0, 0]\n",
            "50\n",
            "predicted Xpath array: [[ 165.   15.  405.   30.   25. 2000.   25.   20.   15.  415.   30.   25.\n",
            "  2005.   25.   20.    0.    0.    0.    0.    0.    0.    0.    0.    0.\n",
            "     0.    0.    0.    0.    0.    0.    0.    0.    0.    0.    0.    0.\n",
            "     0.    0.    0.    0.    0.    0.    0.    0.    0.    0.    0.    0.\n",
            "     0.    0.]]\n",
            "1\n",
            "<class 'numpy.ndarray'>\n",
            "[[165, 15, 405, 30, 25, 2000, 25, 20, 15, 415, 30, 25, 2005, 25, 20, 0, 0, 0, 0, 0, 0, 0, 0, 0, 0, 0, 0, 0, 0, 0, 0, 0, 0, 0, 0, 0, 0, 0, 0, 0, 0, 0, 0, 0, 0, 0, 0, 0, 0, 0]]\n",
            "['aside', '[', 'class', '=', \"'\", 'nav-menu', \"'\", ']', '[', 'name', '=', \"'\", 'webapp', \"'\", ']']\n",
            "<class 'list'>\n",
            "aside[class='nav-menu'][name='webapp']\n"
          ]
        }
      ]
    }
  ]
}