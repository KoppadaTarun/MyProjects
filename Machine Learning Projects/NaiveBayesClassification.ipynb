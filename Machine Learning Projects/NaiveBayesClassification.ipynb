{
  "nbformat": 4,
  "nbformat_minor": 0,
  "metadata": {
    "colab": {
      "provenance": []
    },
    "kernelspec": {
      "name": "python3",
      "display_name": "Python 3"
    },
    "language_info": {
      "name": "python"
    }
  },
  "cells": [
    {
      "cell_type": "markdown",
      "source": [
        "# Navie Bayes Classifier"
      ],
      "metadata": {
        "id": "xE8RPk0YH9We"
      }
    },
    {
      "cell_type": "markdown",
      "source": [
        "In this Project we will use Navie Bayes classifier to classify the Sentences into different Categories."
      ],
      "metadata": {
        "id": "464BhniVILiv"
      }
    },
    {
      "cell_type": "code",
      "execution_count": null,
      "metadata": {
        "id": "gbguNLX2w5R-"
      },
      "outputs": [],
      "source": [
        "import pandas as pd\n",
        "from sklearn.model_selection import train_test_split\n",
        "from sklearn.feature_extraction.text import CountVectorizer\n",
        "from sklearn.naive_bayes import MultinomialNB\n",
        "from sklearn.metrics import accuracy_score, classification_report\n"
      ]
    },
    {
      "cell_type": "code",
      "source": [
        "df = pd.read_csv('DatasetforNav - Copy.csv')"
      ],
      "metadata": {
        "id": "RpiAl2fs2sDJ"
      },
      "execution_count": null,
      "outputs": []
    },
    {
      "cell_type": "code",
      "source": [
        "\n",
        "# Split the dataset into features (X) and labels (y)\n",
        "X = df['Sentence']\n",
        "y = df.drop('Sentence', axis=1)\n",
        "\n",
        "# y_flattened= y.values.flatten()\n",
        "\n",
        "# Split the dataset into training and testing sets\n",
        "# X_train, X_test, y_train, y_test = train_test_split(X, y, test_size=0.2, random_state=42)"
      ],
      "metadata": {
        "id": "6ifa7Hpg3Cs-"
      },
      "execution_count": null,
      "outputs": []
    },
    {
      "cell_type": "code",
      "source": [
        "# Tokenize the sentences using CountVectorizer\n",
        "print(X[0])\n",
        "vectorizer = CountVectorizer()\n",
        "X_counts = vectorizer.fit_transform(X)\n",
        "# X_test_counts = vectorizer.transform(X_test)\n",
        "\n",
        "\n",
        "\n",
        "\n"
      ],
      "metadata": {
        "id": "lwvT6IfN3IV2",
        "colab": {
          "base_uri": "https://localhost:8080/"
        },
        "outputId": "e8310c10-3194-4392-92fd-5b2d3de46c27"
      },
      "execution_count": null,
      "outputs": [
        {
          "output_type": "stream",
          "name": "stdout",
          "text": [
            "The sky is blue\n"
          ]
        }
      ]
    },
    {
      "cell_type": "markdown",
      "source": [],
      "metadata": {
        "id": "V3Mw2gqDU9a4"
      }
    },
    {
      "cell_type": "code",
      "source": [
        "from sklearn.feature_extraction.text import TfidfTransformer\n",
        "tfidf_transformer = TfidfTransformer()\n",
        "\n",
        "tfidf = tfidf_transformer.fit_transform(X_counts)\n",
        "print(tfidf)\n"
      ],
      "metadata": {
        "colab": {
          "base_uri": "https://localhost:8080/"
        },
        "id": "VnIkuJptSkvy",
        "outputId": "6c66d334-a8cd-4ac0-b5f7-1e3d860e2108"
      },
      "execution_count": null,
      "outputs": [
        {
          "output_type": "stream",
          "name": "stdout",
          "text": [
            "  (0, 471)\t0.24524278386168347\n",
            "  (0, 425)\t0.5889842110422029\n",
            "  (0, 245)\t0.20627884723495118\n",
            "  (0, 46)\t0.7418912408771149\n",
            "  (1, 350)\t0.7177466399090694\n",
            "  (1, 278)\t0.4879666252790338\n",
            "  (1, 138)\t0.49671755909473514\n",
            "  (2, 471)\t0.3325755865387105\n",
            "  (2, 421)\t0.503042150104193\n",
            "  (2, 324)\t0.3785640753769386\n",
            "  (2, 290)\t0.503042150104193\n",
            "  (2, 245)\t0.1398681492874936\n",
            "  (2, 63)\t0.46948568809328894\n",
            "  (3, 365)\t0.7648692556319457\n",
            "  (3, 245)\t0.2278681756341112\n",
            "  (3, 187)\t0.6025372323120082\n",
            "  (4, 375)\t0.6199757276274704\n",
            "  (4, 145)\t0.3548860408386397\n",
            "  (4, 49)\t0.6997756748920784\n",
            "  (5, 388)\t0.5414821798699483\n",
            "  (5, 245)\t0.22521209635530423\n",
            "  (5, 191)\t0.8099855310674\n",
            "  (6, 245)\t0.22852404505880428\n",
            "  (6, 225)\t0.5587742726173933\n",
            "  (6, 203)\t0.5174810584279327\n",
            "  :\t:\n",
            "  (316, 107)\t0.591304345243713\n",
            "  (316, 64)\t0.5238740854321541\n",
            "  (316, 23)\t0.26714315384299253\n",
            "  (317, 504)\t0.44425064723964297\n",
            "  (317, 466)\t0.3248862690564101\n",
            "  (317, 377)\t0.41080157989372224\n",
            "  (317, 245)\t0.13942051291183327\n",
            "  (317, 224)\t0.46798313820674897\n",
            "  (317, 143)\t0.5014322055526698\n",
            "  (317, 16)\t0.19609126122990633\n",
            "  (318, 471)\t0.17636301196216106\n",
            "  (318, 352)\t0.35099844257074403\n",
            "  (318, 346)\t0.5335209938867269\n",
            "  (318, 336)\t0.4979313778681259\n",
            "  (318, 322)\t0.292944327561374\n",
            "  (318, 299)\t0.45309376437502086\n",
            "  (318, 245)\t0.1483426269657611\n",
            "  (319, 524)\t0.39101273363420447\n",
            "  (319, 458)\t0.3649294244338558\n",
            "  (319, 261)\t0.39101273363420447\n",
            "  (319, 245)\t0.10871897591470644\n",
            "  (319, 186)\t0.39101273363420447\n",
            "  (319, 153)\t0.3649294244338558\n",
            "  (319, 47)\t0.39101273363420447\n",
            "  (319, 14)\t0.33206834113542577\n"
          ]
        }
      ]
    },
    {
      "cell_type": "code",
      "source": [
        "# Initialize the Naive Bayes classifier\n",
        "nb_classifier = MultinomialNB()\n",
        "\n",
        "# Train the classifier\n",
        "nb_classifier.fit(X_counts, y)"
      ],
      "metadata": {
        "colab": {
          "base_uri": "https://localhost:8080/",
          "height": 132
        },
        "id": "5e630e2H3LTv",
        "outputId": "e987ce57-33b1-4eb4-f67c-92638253c6cd"
      },
      "execution_count": null,
      "outputs": [
        {
          "output_type": "stream",
          "name": "stderr",
          "text": [
            "/usr/local/lib/python3.10/dist-packages/sklearn/utils/validation.py:1143: DataConversionWarning: A column-vector y was passed when a 1d array was expected. Please change the shape of y to (n_samples, ), for example using ravel().\n",
            "  y = column_or_1d(y, warn=True)\n"
          ]
        },
        {
          "output_type": "execute_result",
          "data": {
            "text/plain": [
              "MultinomialNB()"
            ],
            "text/html": [
              "<style>#sk-container-id-1 {color: black;background-color: white;}#sk-container-id-1 pre{padding: 0;}#sk-container-id-1 div.sk-toggleable {background-color: white;}#sk-container-id-1 label.sk-toggleable__label {cursor: pointer;display: block;width: 100%;margin-bottom: 0;padding: 0.3em;box-sizing: border-box;text-align: center;}#sk-container-id-1 label.sk-toggleable__label-arrow:before {content: \"▸\";float: left;margin-right: 0.25em;color: #696969;}#sk-container-id-1 label.sk-toggleable__label-arrow:hover:before {color: black;}#sk-container-id-1 div.sk-estimator:hover label.sk-toggleable__label-arrow:before {color: black;}#sk-container-id-1 div.sk-toggleable__content {max-height: 0;max-width: 0;overflow: hidden;text-align: left;background-color: #f0f8ff;}#sk-container-id-1 div.sk-toggleable__content pre {margin: 0.2em;color: black;border-radius: 0.25em;background-color: #f0f8ff;}#sk-container-id-1 input.sk-toggleable__control:checked~div.sk-toggleable__content {max-height: 200px;max-width: 100%;overflow: auto;}#sk-container-id-1 input.sk-toggleable__control:checked~label.sk-toggleable__label-arrow:before {content: \"▾\";}#sk-container-id-1 div.sk-estimator input.sk-toggleable__control:checked~label.sk-toggleable__label {background-color: #d4ebff;}#sk-container-id-1 div.sk-label input.sk-toggleable__control:checked~label.sk-toggleable__label {background-color: #d4ebff;}#sk-container-id-1 input.sk-hidden--visually {border: 0;clip: rect(1px 1px 1px 1px);clip: rect(1px, 1px, 1px, 1px);height: 1px;margin: -1px;overflow: hidden;padding: 0;position: absolute;width: 1px;}#sk-container-id-1 div.sk-estimator {font-family: monospace;background-color: #f0f8ff;border: 1px dotted black;border-radius: 0.25em;box-sizing: border-box;margin-bottom: 0.5em;}#sk-container-id-1 div.sk-estimator:hover {background-color: #d4ebff;}#sk-container-id-1 div.sk-parallel-item::after {content: \"\";width: 100%;border-bottom: 1px solid gray;flex-grow: 1;}#sk-container-id-1 div.sk-label:hover label.sk-toggleable__label {background-color: #d4ebff;}#sk-container-id-1 div.sk-serial::before {content: \"\";position: absolute;border-left: 1px solid gray;box-sizing: border-box;top: 0;bottom: 0;left: 50%;z-index: 0;}#sk-container-id-1 div.sk-serial {display: flex;flex-direction: column;align-items: center;background-color: white;padding-right: 0.2em;padding-left: 0.2em;position: relative;}#sk-container-id-1 div.sk-item {position: relative;z-index: 1;}#sk-container-id-1 div.sk-parallel {display: flex;align-items: stretch;justify-content: center;background-color: white;position: relative;}#sk-container-id-1 div.sk-item::before, #sk-container-id-1 div.sk-parallel-item::before {content: \"\";position: absolute;border-left: 1px solid gray;box-sizing: border-box;top: 0;bottom: 0;left: 50%;z-index: -1;}#sk-container-id-1 div.sk-parallel-item {display: flex;flex-direction: column;z-index: 1;position: relative;background-color: white;}#sk-container-id-1 div.sk-parallel-item:first-child::after {align-self: flex-end;width: 50%;}#sk-container-id-1 div.sk-parallel-item:last-child::after {align-self: flex-start;width: 50%;}#sk-container-id-1 div.sk-parallel-item:only-child::after {width: 0;}#sk-container-id-1 div.sk-dashed-wrapped {border: 1px dashed gray;margin: 0 0.4em 0.5em 0.4em;box-sizing: border-box;padding-bottom: 0.4em;background-color: white;}#sk-container-id-1 div.sk-label label {font-family: monospace;font-weight: bold;display: inline-block;line-height: 1.2em;}#sk-container-id-1 div.sk-label-container {text-align: center;}#sk-container-id-1 div.sk-container {/* jupyter's `normalize.less` sets `[hidden] { display: none; }` but bootstrap.min.css set `[hidden] { display: none !important; }` so we also need the `!important` here to be able to override the default hidden behavior on the sphinx rendered scikit-learn.org. See: https://github.com/scikit-learn/scikit-learn/issues/21755 */display: inline-block !important;position: relative;}#sk-container-id-1 div.sk-text-repr-fallback {display: none;}</style><div id=\"sk-container-id-1\" class=\"sk-top-container\"><div class=\"sk-text-repr-fallback\"><pre>MultinomialNB()</pre><b>In a Jupyter environment, please rerun this cell to show the HTML representation or trust the notebook. <br />On GitHub, the HTML representation is unable to render, please try loading this page with nbviewer.org.</b></div><div class=\"sk-container\" hidden><div class=\"sk-item\"><div class=\"sk-estimator sk-toggleable\"><input class=\"sk-toggleable__control sk-hidden--visually\" id=\"sk-estimator-id-1\" type=\"checkbox\" checked><label for=\"sk-estimator-id-1\" class=\"sk-toggleable__label sk-toggleable__label-arrow\">MultinomialNB</label><div class=\"sk-toggleable__content\"><pre>MultinomialNB()</pre></div></div></div></div></div>"
            ]
          },
          "metadata": {},
          "execution_count": 7
        }
      ]
    },
    {
      "cell_type": "code",
      "source": [
        "# # Make predictions on the testing set\n",
        "# y_pred = nb_classifier.predict(X_test_counts)\n",
        "# print(X_test,y_pred)\n",
        "\n",
        "def predict_catagories(sentence):\n",
        "  sentence_counts = vectorizer.transform([sentence])\n",
        "  sentence_counts2 = tfidf_transformer.transform(sentence_counts)\n",
        "  predicted_categories = nb_classifier.predict(sentence_counts2)\n",
        "  return predicted_categories\n"
      ],
      "metadata": {
        "id": "W31kCapr3RLY"
      },
      "execution_count": null,
      "outputs": []
    },
    {
      "cell_type": "code",
      "source": [
        "# # Evaluate the model\n",
        "# accuracy = accuracy_score(y_test, y_pred)\n",
        "# print(\"Accuracy:\", accuracy)\n",
        "\n",
        "input_sentence = \"The sky is blue\"\n",
        "predicted_catagories = predict_catagories(input_sentence)\n",
        "\n",
        "print(\"predicted category: \", predicted_catagories)"
      ],
      "metadata": {
        "id": "8rkqQHy13RoG",
        "colab": {
          "base_uri": "https://localhost:8080/"
        },
        "outputId": "70e64612-9003-4ed5-ccce-77093bed4a84"
      },
      "execution_count": null,
      "outputs": [
        {
          "output_type": "stream",
          "name": "stdout",
          "text": [
            "predicted category:  [0]\n"
          ]
        }
      ]
    },
    {
      "cell_type": "code",
      "source": [
        "# # Display classification report\n",
        "# print(classification_report(y_test, y_pred))\n"
      ],
      "metadata": {
        "id": "RAA4DYZB3XZw"
      },
      "execution_count": null,
      "outputs": []
    }
  ]
}