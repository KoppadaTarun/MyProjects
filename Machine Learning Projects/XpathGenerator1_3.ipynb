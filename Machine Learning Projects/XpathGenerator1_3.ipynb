{
  "cells": [
    {
      "cell_type": "markdown",
      "source": [
        "In this Project we are using Random Forest to Train a model which Generates Xpath for the Html Elements."
      ],
      "metadata": {
        "id": "VUmh1DD8Fxfc"
      }
    },
    {
      "cell_type": "code",
      "execution_count": null,
      "metadata": {
        "colab": {
          "base_uri": "https://localhost:8080/"
        },
        "id": "UgrQMvAWMkcQ",
        "outputId": "6330bc19-e33e-4ceb-f809-8c808f566c73"
      },
      "outputs": [
        {
          "output_type": "stream",
          "name": "stdout",
          "text": [
            "                                                column1  \\\n",
            "1738                            article class container   \n",
            "1739       header id access name webapp class container   \n",
            "1740  header id access class container name webapp d...   \n",
            "1741                                    div name webapp   \n",
            "1742                                   footer id access   \n",
            "\n",
            "                                                column2  \n",
            "1738                      //article[@class='container']  \n",
            "1739  //header[@id='access' and @name='webapp' and @...  \n",
            "1740  //header[@id='access' and @class='container' a...  \n",
            "1741                              //div[@name='webapp']  \n",
            "1742                             //footer[@id='access']  \n"
          ]
        }
      ],
      "source": [
        "import pandas as pd\n",
        "\n",
        "df1 = pd.read_csv('CombinedDataset.csv')\n",
        "\n",
        "\n",
        "\n",
        "print(df1.tail())"
      ]
    },
    {
      "cell_type": "code",
      "execution_count": null,
      "metadata": {
        "colab": {
          "base_uri": "https://localhost:8080/"
        },
        "id": "Mx2xpfNwMqXq",
        "outputId": "4e251a6a-71d4-4808-a580-d1e887a52cf8"
      },
      "outputs": [
        {
          "output_type": "stream",
          "name": "stdout",
          "text": [
            "<bound method NDFrame.head of                                                 column1  \\\n",
            "0                                         div id access   \n",
            "1                                   article name webapp   \n",
            "2                   article name webapp class container   \n",
            "3     header id access class container name webapp h...   \n",
            "4             div id access name webapp class container   \n",
            "...                                                 ...   \n",
            "1738                            article class container   \n",
            "1739       header id access name webapp class container   \n",
            "1740  header id access class container name webapp d...   \n",
            "1741                                    div name webapp   \n",
            "1742                                   footer id access   \n",
            "\n",
            "                                                column2  \n",
            "0                         / / div [ @ id = ' access ' ]  \n",
            "1                   / / article [ @ name = ' webapp ' ]  \n",
            "2     / / article [ @ name = ' webapp ' and @ class ...  \n",
            "3     / / header [ @ id = ' access ' and @ class = '...  \n",
            "4     / / div [ @ id = ' access ' and @ name = ' web...  \n",
            "...                                                 ...  \n",
            "1738            / / article [ @ class = ' container ' ]  \n",
            "1739  / / header [ @ id = ' access ' and @ name = ' ...  \n",
            "1740  / / header [ @ id = ' access ' and @ class = '...  \n",
            "1741                    / / div [ @ name = ' webapp ' ]  \n",
            "1742                   / / footer [ @ id = ' access ' ]  \n",
            "\n",
            "[1743 rows x 2 columns]>\n",
            "<bound method NDFrame.tail of                                                 column1  \\\n",
            "0                                         div id access   \n",
            "1                                   article name webapp   \n",
            "2                   article name webapp class container   \n",
            "3     header id access class container name webapp h...   \n",
            "4             div id access name webapp class container   \n",
            "...                                                 ...   \n",
            "1738                            article class container   \n",
            "1739       header id access name webapp class container   \n",
            "1740  header id access class container name webapp d...   \n",
            "1741                                    div name webapp   \n",
            "1742                                   footer id access   \n",
            "\n",
            "                                                column2  \n",
            "0                         / / div [ @ id = ' access ' ]  \n",
            "1                   / / article [ @ name = ' webapp ' ]  \n",
            "2     / / article [ @ name = ' webapp ' and @ class ...  \n",
            "3     / / header [ @ id = ' access ' and @ class = '...  \n",
            "4     / / div [ @ id = ' access ' and @ name = ' web...  \n",
            "...                                                 ...  \n",
            "1738            / / article [ @ class = ' container ' ]  \n",
            "1739  / / header [ @ id = ' access ' and @ name = ' ...  \n",
            "1740  / / header [ @ id = ' access ' and @ class = '...  \n",
            "1741                    / / div [ @ name = ' webapp ' ]  \n",
            "1742                   / / footer [ @ id = ' access ' ]  \n",
            "\n",
            "[1743 rows x 2 columns]>\n"
          ]
        }
      ],
      "source": [
        "import re\n",
        "\n",
        "def modify_text(text):\n",
        "  modify = text.replace('/','/ ').replace('[',' [').replace('@',' @ ').replace('=',' = ').replace('\\'', ' \\' ').replace(']',' ]')\n",
        "  remodify = re.sub(r'\\s+', ' ', modify)\n",
        "  return remodify.strip()\n",
        "\n",
        "df1.iloc[:,1]=df1.iloc[:,1].apply(modify_text)\n",
        "\n",
        "print(df1.head)\n",
        "print(df1.tail)"
      ]
    },
    {
      "cell_type": "code",
      "execution_count": null,
      "metadata": {
        "id": "A2OqI8UGMqVD",
        "colab": {
          "base_uri": "https://localhost:8080/"
        },
        "outputId": "257c40a5-a6ec-427c-d351-e4c4b0c41327"
      },
      "outputs": [
        {
          "output_type": "stream",
          "name": "stdout",
          "text": [
            "                                             column1  \\\n",
            "0                                      div id access   \n",
            "1                                article name webapp   \n",
            "2                article name webapp class container   \n",
            "3  header id access class container name webapp h...   \n",
            "4          div id access name webapp class container   \n",
            "\n",
            "                                    Modified_column2  \n",
            "0                      / / div [ @ id = ' access ' ]  \n",
            "1                / / article [ @ name = ' webapp ' ]  \n",
            "2  / / article [ @ name = ' webapp ' and @ class ...  \n",
            "3  / / header [ @ id = ' access ' and @ class = '...  \n",
            "4  / / div [ @ id = ' access ' and @ name = ' web...  \n"
          ]
        }
      ],
      "source": [
        "new_df1 = pd.DataFrame({'column1': df1.iloc[:,0], 'Modified_column2':df1.iloc[:,1]})\n",
        "\n",
        "print(new_df1.head())"
      ]
    },
    {
      "cell_type": "code",
      "execution_count": null,
      "metadata": {
        "id": "u7A-8XO5MqSp",
        "colab": {
          "base_uri": "https://localhost:8080/"
        },
        "outputId": "54b9d6a9-508d-44a1-d621-a1e14860ba5e"
      },
      "outputs": [
        {
          "output_type": "stream",
          "name": "stdout",
          "text": [
            "<class 'dict'>\n"
          ]
        }
      ],
      "source": [
        "# Define default values for special characters and gap for words\n",
        "special_characters = {'/': 5, '@': 10, '[':15, ']':20, '\\'':25, '=':30,'div': 35,\n",
        "    'p': 40,\n",
        "    'h1': 45,\n",
        "    'h2': 50,\n",
        "    'h3': 55,\n",
        "    'h4': 60,\n",
        "    'h5': 65,\n",
        "    'h6': 70,\n",
        "    'a': 75,\n",
        "    'img': 80,\n",
        "    'span': 85,\n",
        "    'ul': 90,\n",
        "    'li': 95,\n",
        "    'form': 100,\n",
        "    'input': 105,\n",
        "    'button': 110,\n",
        "    'label': 115,\n",
        "    'section': 120,\n",
        "    'header': 125,\n",
        "    'nav': 130,\n",
        "    'footer': 135,\n",
        "    'table': 140,\n",
        "    'tr': 145,\n",
        "    'td': 150,\n",
        "    'th': 155,\n",
        "    'article': 160,\n",
        "    'aside': 165,\n",
        "    'main': 170,\n",
        "    'blockquote': 175,\n",
        "    'cite': 180,\n",
        "    'textarea': 185,\n",
        "    'strong': 190,\n",
        "    'iframe': 195,\n",
        "    'video': 200,\n",
        "    'audio': 205,\n",
        "    'source': 210,\n",
        "    'ol': 215,\n",
        "    '()': 220,\n",
        "    'b': 225,\n",
        "    'canvas': 230,\n",
        "    'caption': 235,\n",
        "    'code': 240,\n",
        "    'datalist': 245,\n",
        "    'del': 250,\n",
        "    'details': 255,\n",
        "    'dialog': 260,\n",
        "    'fieldset': 265,\n",
        "    'figcaption': 270,\n",
        "    'figure': 275,\n",
        "    'footer': 280,\n",
        "    'header': 285,\n",
        "    'hr': 290,\n",
        "    'select': 295,\n",
        "    'ins': 300,\n",
        "    'kbd': 305,\n",
        "    'mark': 310,\n",
        "    'meter': 315,\n",
        "    'output': 320,\n",
        "    'progress': 325,\n",
        "    'q': 330,\n",
        "    'rp': 335,\n",
        "    'rt': 340,\n",
        "    'ruby': 345,\n",
        "    's': 350,\n",
        "    'samp': 355,\n",
        "    'small': 360,\n",
        "    'sub': 365,\n",
        "    'summary': 370,\n",
        "    'sup': 375,\n",
        "    'template': 380,\n",
        "    'time': 385,\n",
        "    'role': 390,\n",
        "    'var': 395,\n",
        "    'wbr': 400,\n",
        "    'class': 405,\n",
        "    'id': 410,\n",
        "    'name': 415,\n",
        "    'style': 420,\n",
        "    'href': 425,\n",
        "    'target': 430,\n",
        "    'src': 435,\n",
        "    'alt': 440,\n",
        "    'type': 445,\n",
        "    'value': 450,\n",
        "    'for': 455,\n",
        "    'action': 460,\n",
        "    'method': 465,\n",
        "    'title': 470,\n",
        "    'placeholder': 475,\n",
        "    'required': 480,\n",
        "    'checked': 485,\n",
        "    'disabled': 490,\n",
        "    'readonly': 495,\n",
        "    'size': 500,\n",
        "    'maxlength': 505,\n",
        "    'aria-label': 510,\n",
        "    'max': 515,\n",
        "    'step': 520,\n",
        "    'rows': 525,\n",
        "    'cols': 530,\n",
        "    'autocomplete': 535,\n",
        "    'autofocus': 540,\n",
        "    'multiple': 545,\n",
        "    'pattern': 550,\n",
        "    'selected': 555,\n",
        "    'labels': 560,\n",
        "    'contenteditable': 565,\n",
        "    'spellcheck': 570,\n",
        "    'tabindex': 575,\n",
        "    'download': 580,\n",
        "    'rel': 585,\n",
        "    'size': 590,\n",
        "    'shape': 595,\n",
        "    'coords': 600,\n",
        "    'autoplay': 605,\n",
        "    'controls': 610,\n",
        "    'loop': 615,\n",
        "    'muted': 620,\n",
        "    'preload': 625,\n",
        "    'poster': 630,\n",
        "    'kind': 635,\n",
        "    'srclang': 640,\n",
        "    'sandbox': 645,\n",
        "    'allow': 650,\n",
        "    'height': 655,\n",
        "    'width': 660,\n",
        "    'srcdoc': 665,\n",
        "    'allowfullscreen': 670,\n",
        "    'allowpaymentrequest': 675,\n",
        "    'async': 680,\n",
        "    'charset': 685,\n",
        "    'defer': 690,\n",
        "    'language': 695,\n",
        "    'scoped': 700,\n",
        "    'wrap': 705,\n",
        "    'con': 710,\n",
        "    'http-equiv': 715,\n",
        "    'scheme': 720,\n",
        "    'usemap': 725,\n",
        "    'headers': 730,\n",
        "    'nowrap': 735,\n",
        "    'abbr': 740,\n",
        "    'scope': 745,\n",
        "    'rowspan': 750,\n",
        "    'colspan': 755,\n",
        "    'align': 760,\n",
        "    'valign': 765,\n",
        "    'bgcolor': 770,\n",
        "    'char': 775,\n",
        "    'charoff': 780,\n",
        "    'clear': 785,\n",
        "    'dir': 790,\n",
        "    'lang': 795,\n",
        "    'xml:lang': 800,\n",
        "    'compact': 805,\n",
        "    'cite': 810,\n",
        "    'datetime': 815,\n",
        "    'start': 820,\n",
        "    'reversed': 825,\n",
        "    'classid': 830,\n",
        "    'codebase': 835,\n",
        "    'data': 840,\n",
        "    'archive': 845,\n",
        "    'declare': 850,\n",
        "    'standby': 855,\n",
        "    'vspace': 860,\n",
        "    'hspace': 865,\n",
        "    'axis': 870,\n",
        "    'longdesc': 875,\n",
        "    'border': 880,\n",
        "    'frame': 885,\n",
        "    'rules': 890,\n",
        "    'summary': 895,\n",
        "    'accept': 900,\n",
        "    'accept-charset': 905,\n",
        "    'enctype': 910,\n",
        "    'formaction': 915,\n",
        "    'formenctype': 920,\n",
        "    'formmethod': 925,\n",
        "    'formnovalidate': 930,\n",
        "    'formtarget': 935,\n",
        "    'autosave': 940,\n",
        "    'contextmenu': 945,\n",
        "    'draggable': 950,\n",
        "    'dropzone': 955,\n",
        "    'hidden': 960,\n",
        "    'translate': 965,\n",
        "    'alink': 970,\n",
        "    'background': 975,\n",
        "    'link': 980,\n",
        "    'text': 985,\n",
        "    '>':985,\n",
        "    'vlink': 990,\n",
        "    'default': 995,\n",
        "    'and':1000,\n",
        "    'data-test':1005,\n",
        "    'time':1010\n",
        "}\n",
        "word_indices1 = special_characters.copy()\n",
        "print(type(word_indices1))\n"
      ]
    },
    {
      "cell_type": "code",
      "execution_count": null,
      "metadata": {
        "id": "6M0R-V8CMqP7",
        "colab": {
          "base_uri": "https://localhost:8080/"
        },
        "outputId": "ed76b934-cd5c-4571-f70b-2ebf5f8be8ce"
      },
      "outputs": [
        {
          "output_type": "stream",
          "name": "stdout",
          "text": [
            "                                                column1  \\\n",
            "0                                       [35, 410, 2000]   \n",
            "1                                      [160, 415, 2000]   \n",
            "2                           [160, 415, 2000, 405, 2005]   \n",
            "3     [285, 410, 2000, 405, 2005, 415, 2010, 425, 2015]   \n",
            "4                 [35, 410, 2000, 415, 2005, 405, 2010]   \n",
            "...                                                 ...   \n",
            "1738                                   [160, 405, 2000]   \n",
            "1739             [285, 410, 2000, 415, 2005, 405, 2010]   \n",
            "1740  [285, 410, 2000, 405, 2005, 415, 2010, 1005, 2...   \n",
            "1741                                    [35, 415, 2000]   \n",
            "1742                                   [280, 410, 2000]   \n",
            "\n",
            "                                                column2  \n",
            "0         [5, 5, 35, 15, 10, 410, 30, 25, 2000, 25, 20]  \n",
            "1        [5, 5, 160, 15, 10, 415, 30, 25, 2000, 25, 20]  \n",
            "2     [5, 5, 160, 15, 10, 415, 30, 25, 2000, 25, 100...  \n",
            "3     [5, 5, 285, 15, 10, 410, 30, 25, 2000, 25, 100...  \n",
            "4     [5, 5, 35, 15, 10, 410, 30, 25, 2000, 25, 1000...  \n",
            "...                                                 ...  \n",
            "1738     [5, 5, 160, 15, 10, 405, 30, 25, 2000, 25, 20]  \n",
            "1739  [5, 5, 285, 15, 10, 410, 30, 25, 2000, 25, 100...  \n",
            "1740  [5, 5, 285, 15, 10, 410, 30, 25, 2000, 25, 100...  \n",
            "1741      [5, 5, 35, 15, 10, 415, 30, 25, 2000, 25, 20]  \n",
            "1742     [5, 5, 280, 15, 10, 410, 30, 25, 2000, 25, 20]  \n",
            "\n",
            "[1743 rows x 2 columns]\n"
          ]
        }
      ],
      "source": [
        "output1 = []\n",
        "num_samples = len(new_df1)\n",
        "\n",
        "\n",
        "for i in range(num_samples):\n",
        "  next_index_column1=2000\n",
        "  column1_indices = []\n",
        "  modifyColumn_indices=[]\n",
        "  firstcol = new_df1.iloc[i,0]\n",
        "  secondcol = new_df1.iloc[i,1]\n",
        "\n",
        "\n",
        "  for word in firstcol.split():\n",
        "    if word in word_indices1:\n",
        "      column1_indices.append(word_indices1[word])\n",
        "    else:\n",
        "      word_indices1[word] = next_index_column1\n",
        "      column1_indices.append(next_index_column1)\n",
        "      next_index_column1 += 5\n",
        "\n",
        "  next_index_column1=2000\n",
        "\n",
        "\n",
        "  for word in secondcol.split():\n",
        "    if word in word_indices1:\n",
        "      modifyColumn_indices.append(word_indices1[word])\n",
        "\n",
        "  word_indices1 = special_characters.copy()\n",
        "\n",
        "\n",
        "  output1.append([column1_indices, modifyColumn_indices])\n",
        "\n",
        "# Convert to DataFrame\n",
        "df_output1 = pd.DataFrame(output1, columns=['column1', 'column2'])\n",
        "\n",
        "# Print the DataFrame\n",
        "print(df_output1)\n",
        "\n",
        "\n",
        "\n",
        "\n"
      ]
    },
    {
      "cell_type": "code",
      "execution_count": null,
      "metadata": {
        "id": "_82V9wwoMqKU",
        "colab": {
          "base_uri": "https://localhost:8080/"
        },
        "outputId": "c9a02e47-061e-425b-cf5e-43755607b7e0"
      },
      "outputs": [
        {
          "output_type": "stream",
          "name": "stdout",
          "text": [
            "[   5    5  280   15   10  405   30   25 2000   25   20    0    0    0\n",
            "    0    0    0    0    0    0    0    0    0    0    0    0    0    0\n",
            "    0    0    0    0    0    0    0    0    0    0    0    0    0    0\n",
            "    0    0    0    0    0    0    0    0]\n"
          ]
        }
      ],
      "source": [
        "import numpy as np\n",
        "max_length = 50\n",
        "# Transform all samples' lengths into max length by adding zeros\n",
        "df_output1.iloc[:,0] = df_output1.iloc[:,0].apply(lambda x: np.pad(x, (0, max_length - len(x)), 'constant'))\n",
        "df_output1.iloc[:,1] = df_output1.iloc[:,1].apply(lambda x: np.pad(x, (0, max_length - len(x)), 'constant'))\n",
        "\n",
        "# Display the first few rows of the updated DataFrame\n",
        "# print(df_output1.head())\n",
        "# print(df_output1.tail())\n",
        "\n",
        "# print(df_output1.iloc[11987,0])\n",
        "print(df_output1.iloc[59,1])\n",
        "\n",
        "# print(df_output1.iloc[11204,0])\n",
        "# print(df_output1.iloc[11204,1])\n",
        "\n",
        "# df_output1.to_csv('output.csv', index=False)"
      ]
    },
    {
      "cell_type": "code",
      "execution_count": null,
      "metadata": {
        "id": "80FIy7pyMqFn"
      },
      "outputs": [],
      "source": [
        "from sklearn.model_selection import train_test_split\n",
        "# from sklearn.linear_model import LinearRegression\n",
        "from sklearn.linear_model import LogisticRegression\n",
        "from sklearn.ensemble import RandomForestRegressor\n",
        "from sklearn.metrics import mean_squared_error"
      ]
    },
    {
      "cell_type": "code",
      "execution_count": null,
      "metadata": {
        "id": "tEkssNzGMqDC",
        "colab": {
          "base_uri": "https://localhost:8080/"
        },
        "outputId": "f470bd5b-ee63-4bf9-9ec5-fd537aadcae7"
      },
      "outputs": [
        {
          "output_type": "stream",
          "name": "stdout",
          "text": [
            "[[  35  410 2000 ...    0    0    0]\n",
            " [ 160  415 2000 ...    0    0    0]\n",
            " [ 160  415 2000 ...    0    0    0]\n",
            " ...\n",
            " [ 285  410 2000 ...    0    0    0]\n",
            " [  35  415 2000 ...    0    0    0]\n",
            " [ 280  410 2000 ...    0    0    0]]\n"
          ]
        }
      ],
      "source": [
        "input_array = np.array(df_output1.iloc[:,0].tolist())\n",
        "output_array = np.array(df_output1.iloc[:,1].tolist())\n",
        "\n",
        "print(input_array)"
      ]
    },
    {
      "cell_type": "code",
      "execution_count": null,
      "metadata": {
        "colab": {
          "base_uri": "https://localhost:8080/"
        },
        "id": "DjWOv2NYMqAK",
        "outputId": "09312bf8-3b3e-4b31-a244-573f4ee8341b"
      },
      "outputs": [
        {
          "output_type": "stream",
          "name": "stdout",
          "text": [
            "0.0\n"
          ]
        }
      ],
      "source": [
        "X_train, X_test, y_train, y_test = train_test_split(input_array, output_array, test_size=0.2, random_state=42)\n",
        "model = RandomForestRegressor()\n",
        "\n",
        "model.fit(X_train, y_train)\n",
        "\n",
        "y_pred = model.predict(X_test)\n",
        "\n",
        "mse = mean_squared_error(y_test, y_pred)\n",
        "print(mse)"
      ]
    },
    {
      "cell_type": "code",
      "execution_count": null,
      "metadata": {
        "colab": {
          "base_uri": "https://localhost:8080/"
        },
        "id": "3QYnMXazMp8c",
        "outputId": "5ec4c8ad-f2fc-46e4-95dc-916a9cff7702"
      },
      "outputs": [
        {
          "output_type": "stream",
          "name": "stdout",
          "text": [
            "2000\n",
            "2005\n",
            "[35, 405, 2000, 510, 2005]\n",
            "[35, 405, 2000, 510, 2005, 0, 0, 0, 0, 0, 0, 0, 0, 0, 0, 0, 0, 0, 0, 0, 0, 0, 0, 0, 0, 0, 0, 0, 0, 0, 0, 0, 0, 0, 0, 0, 0, 0, 0, 0, 0, 0, 0, 0, 0, 0, 0, 0, 0, 0]\n",
            "50\n",
            "predicted Xpath array: [[   5.    5.   35.   15.   10.  405.   30.   25. 2000.   25. 1000.   10.\n",
            "   415.   30.   25. 2005.   25.   20.    0.    0.    0.    0.    0.    0.\n",
            "     0.    0.    0.    0.    0.    0.    0.    0.    0.    0.    0.    0.\n",
            "     0.    0.    0.    0.    0.    0.    0.    0.    0.    0.    0.    0.\n",
            "     0.    0.]]\n",
            "1\n",
            "<class 'numpy.ndarray'>\n",
            "[[5, 5, 35, 15, 10, 405, 30, 25, 2000, 25, 1000, 10, 415, 30, 25, 2005, 25, 20, 0, 0, 0, 0, 0, 0, 0, 0, 0, 0, 0, 0, 0, 0, 0, 0, 0, 0, 0, 0, 0, 0, 0, 0, 0, 0, 0, 0, 0, 0, 0, 0]]\n",
            "['/', '/', 'div', '[', '@', 'class', '=', \"'\", 'nav-menu-desktopHamburgerSticky nav-menu-desktopHamburger nav-menu-button', \"'\", ' and ', '@', 'name', '=', \"'\", 'Open Navigation Menu', \"'\", ']']\n",
            "<class 'list'>\n",
            "//div[@class='nav-menu-desktopHamburgerSticky nav-menu-desktopHamburger nav-menu-button' and @name='Open Navigation Menu']\n"
          ]
        }
      ],
      "source": [
        "# new_element_id_array = [35, 415, 2000, 0, 0, 0,0, 0, 0, 0, 0, 0, 0, 0, 0, 0, 0,0,0,0,0, 0, 0, 0, 0, 0, 0,0,0,0,0, 0, 0, 0, 0, 0, 0,0,0,0,0, 0, 0, 0, 0, 0, 0,0,0,0]\n",
        "\n",
        "# new_element_id_array = np.array([new_element_id_array])\n",
        "\n",
        "#class=405 id=410 name=415\n",
        "word_indices2 = special_characters.copy()\n",
        "column1_indi = []\n",
        "next_index_colum = 2000\n",
        "#<button class=\"nav-menu-desktopHamburgerSticky nav-menu-desktopHamburger nav-menu-button\" aria-label=\"Open Navigation Menu\"></button>\n",
        "element1 = ['div','class','nav-menu-desktopHamburgerSticky nav-menu-desktopHamburger nav-menu-button','aria-label','Open Navigation Menu']\n",
        "\n",
        "for item in element1:\n",
        "   if item in word_indices2:\n",
        "      column1_indi.append(word_indices2[item])\n",
        "\n",
        "   else:\n",
        "      word_indices2[item] = next_index_colum\n",
        "      column1_indi.append(next_index_colum)\n",
        "      print(next_index_colum)\n",
        "      next_index_colum += 5\n",
        "\n",
        "\n",
        "print(column1_indi)\n",
        "count = len(column1_indi)\n",
        "\n",
        "for i in range(50-count):\n",
        "  column1_indi.append(0)\n",
        "\n",
        "print(column1_indi)\n",
        "print(len(column1_indi))\n",
        "\n",
        "new_element_id_array = column1_indi\n",
        "new_element_id_array = np.array([new_element_id_array])\n",
        "\n",
        "#5, 5, 80, 15, 10, 410, 30, 25, 2000, 25, 20\n",
        "\n",
        "predicted_xpath_array = model.predict(new_element_id_array.reshape(1,-1))\n",
        "\n",
        "print(\"predicted Xpath array:\", predicted_xpath_array)\n",
        "print(len(predicted_xpath_array))\n",
        "print(type(predicted_xpath_array))\n",
        "\n",
        "\n",
        "rounded_numbers2 = (np.round(predicted_xpath_array / 5)* 5).astype(int)\n",
        "\n",
        "rounded_numbers_list2= rounded_numbers2.tolist()\n",
        "\n",
        "print(rounded_numbers_list2)\n",
        "reversing2 = {value: key for key, value in word_indices2.items()}\n",
        "words2 = [reversing2[number] for number in rounded_numbers2.flatten() if number != 0]\n",
        "\n",
        "replace_this = 'and'\n",
        "replace_with = ' and '\n",
        "\n",
        "newWords2 = [replace_with if x == replace_this else x for x in words2]\n",
        "\n",
        "print(newWords2)\n",
        "\n",
        "print(type(newWords2))\n",
        "\n",
        "result_xpath = ''.join(newWords2)\n",
        "print(result_xpath)"
      ]
    },
    {
      "cell_type": "code",
      "execution_count": null,
      "metadata": {
        "id": "d14IO4yaMp5S",
        "colab": {
          "base_uri": "https://localhost:8080/",
          "height": 34
        },
        "outputId": "ca2eecbf-fc64-4ab9-ec38-32d2c3107ed3"
      },
      "outputs": [
        {
          "output_type": "display_data",
          "data": {
            "text/plain": [
              "<IPython.core.display.Javascript object>"
            ],
            "application/javascript": [
              "\n",
              "    async function download(id, filename, size) {\n",
              "      if (!google.colab.kernel.accessAllowed) {\n",
              "        return;\n",
              "      }\n",
              "      const div = document.createElement('div');\n",
              "      const label = document.createElement('label');\n",
              "      label.textContent = `Downloading \"${filename}\": `;\n",
              "      div.appendChild(label);\n",
              "      const progress = document.createElement('progress');\n",
              "      progress.max = size;\n",
              "      div.appendChild(progress);\n",
              "      document.body.appendChild(div);\n",
              "\n",
              "      const buffers = [];\n",
              "      let downloaded = 0;\n",
              "\n",
              "      const channel = await google.colab.kernel.comms.open(id);\n",
              "      // Send a message to notify the kernel that we're ready.\n",
              "      channel.send({})\n",
              "\n",
              "      for await (const message of channel.messages) {\n",
              "        // Send a message to notify the kernel that we're ready.\n",
              "        channel.send({})\n",
              "        if (message.buffers) {\n",
              "          for (const buffer of message.buffers) {\n",
              "            buffers.push(buffer);\n",
              "            downloaded += buffer.byteLength;\n",
              "            progress.value = downloaded;\n",
              "          }\n",
              "        }\n",
              "      }\n",
              "      const blob = new Blob(buffers, {type: 'application/binary'});\n",
              "      const a = document.createElement('a');\n",
              "      a.href = window.URL.createObjectURL(blob);\n",
              "      a.download = filename;\n",
              "      div.appendChild(a);\n",
              "      a.click();\n",
              "      div.remove();\n",
              "    }\n",
              "  "
            ]
          },
          "metadata": {}
        },
        {
          "output_type": "display_data",
          "data": {
            "text/plain": [
              "<IPython.core.display.Javascript object>"
            ],
            "application/javascript": [
              "download(\"download_1e384f0b-b1a8-4c00-b426-f869490aa018\", \"XpathCreator.pkl\", 3366137)"
            ]
          },
          "metadata": {}
        }
      ],
      "source": [
        "\n",
        "import joblib\n",
        "\n",
        "# Assuming X_train and y_train are your training data\n",
        "\n",
        "\n",
        "\n",
        "# Save the trained model to a file\n",
        "joblib.dump(model, 'XpathCreator.pkl')\n",
        "\n",
        "# Download the saved model file\n",
        "from google.colab import files\n",
        "files.download('XpathCreator.pkl')\n"
      ]
    }
  ],
  "metadata": {
    "colab": {
      "provenance": []
    },
    "kernelspec": {
      "display_name": "Python 3",
      "name": "python3"
    },
    "language_info": {
      "name": "python"
    }
  },
  "nbformat": 4,
  "nbformat_minor": 0
}